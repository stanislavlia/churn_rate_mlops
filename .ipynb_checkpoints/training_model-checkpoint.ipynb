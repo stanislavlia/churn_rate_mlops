{
 "cells": [
  {
   "cell_type": "code",
   "execution_count": 9,
   "id": "2f7e623d-ea14-4bd4-9334-23787c8b4977",
   "metadata": {},
   "outputs": [],
   "source": [
    "import warnings\n",
    "warnings.filterwarnings(\"ignore\")\n",
    "\n",
    "import pandas as pd\n",
    "import numpy as np\n",
    "from dotenv import load_dotenv\n",
    "import mlflow\n",
    "import optuna\n",
    "import matplotlib.pyplot as plt\n",
    "import seaborn as sns"
   ]
  },
  {
   "cell_type": "markdown",
   "id": "a40abd5f-3ccf-441d-a014-919fcb1003a5",
   "metadata": {},
   "source": [
    "## Loading Data Splits"
   ]
  },
  {
   "cell_type": "code",
   "execution_count": 31,
   "id": "32e06c0e-6251-46f9-8292-8e58e2d573e5",
   "metadata": {},
   "outputs": [],
   "source": [
    "#Unprocessed (unscaled data)\n",
    "raw_train_df = pd.read_csv(\"train/splits/train_split.csv\")\n",
    "raw_test_df = pd.read_csv(\"train/splits/test_split.csv\")\n",
    "raw_val_df = pd.read_csv(\"train/splits/val_split.csv\")"
   ]
  },
  {
   "cell_type": "code",
   "execution_count": 32,
   "id": "a5837260-ddb4-432d-9cd4-68e3ca5cc68e",
   "metadata": {},
   "outputs": [],
   "source": [
    "#processed data ready for ML\n",
    "train_df = pd.read_csv(\"train/splits/train_processed.csv\")\n",
    "test_df = pd.read_csv(\"train/splits/test_processed.csv\")\n",
    "val_df = pd.read_csv(\"train/splits/val_processed.csv\")"
   ]
  },
  {
   "cell_type": "code",
   "execution_count": 18,
   "id": "e8a09818-503e-42e4-961d-804e58f6a3c9",
   "metadata": {},
   "outputs": [
    {
     "data": {
      "text/html": [
       "<div>\n",
       "<style scoped>\n",
       "    .dataframe tbody tr th:only-of-type {\n",
       "        vertical-align: middle;\n",
       "    }\n",
       "\n",
       "    .dataframe tbody tr th {\n",
       "        vertical-align: top;\n",
       "    }\n",
       "\n",
       "    .dataframe thead th {\n",
       "        text-align: right;\n",
       "    }\n",
       "</style>\n",
       "<table border=\"1\" class=\"dataframe\">\n",
       "  <thead>\n",
       "    <tr style=\"text-align: right;\">\n",
       "      <th></th>\n",
       "      <th>msno</th>\n",
       "      <th>city</th>\n",
       "      <th>bd</th>\n",
       "      <th>gender</th>\n",
       "      <th>registered_via</th>\n",
       "      <th>registration_init_time</th>\n",
       "      <th>num_25_mean</th>\n",
       "      <th>num_50_mean</th>\n",
       "      <th>num_50_min</th>\n",
       "      <th>num_50_max</th>\n",
       "      <th>...</th>\n",
       "      <th>membership_expire_day_of_week_mean</th>\n",
       "      <th>membership_expire_month_mean</th>\n",
       "      <th>membership_expire_month_count</th>\n",
       "      <th>last_transaction_date</th>\n",
       "      <th>is_churn</th>\n",
       "      <th>registration_year</th>\n",
       "      <th>registration_month</th>\n",
       "      <th>last_transaction_year</th>\n",
       "      <th>last_transaction_month</th>\n",
       "      <th>usage_period_days</th>\n",
       "    </tr>\n",
       "  </thead>\n",
       "  <tbody>\n",
       "    <tr>\n",
       "      <th>0</th>\n",
       "      <td>P7W1hJVPC9+lZf5WLhskxKvQQEJJdpKkKVu4v7RA0zQ=</td>\n",
       "      <td>13.0</td>\n",
       "      <td>29.0</td>\n",
       "      <td>female</td>\n",
       "      <td>9.0</td>\n",
       "      <td>2004-03-26</td>\n",
       "      <td>2.86</td>\n",
       "      <td>0.00</td>\n",
       "      <td>0.0</td>\n",
       "      <td>0.0</td>\n",
       "      <td>...</td>\n",
       "      <td>3.0</td>\n",
       "      <td>4.0</td>\n",
       "      <td>1.0</td>\n",
       "      <td>2017-03-01</td>\n",
       "      <td>0.0</td>\n",
       "      <td>2004.0</td>\n",
       "      <td>3.0</td>\n",
       "      <td>2017.0</td>\n",
       "      <td>3.0</td>\n",
       "      <td>4723.0</td>\n",
       "    </tr>\n",
       "    <tr>\n",
       "      <th>1</th>\n",
       "      <td>yKDUvz1yO1xZ/fwG0bMyIa5K+w7+kIAc+qV3vZKYz9E=</td>\n",
       "      <td>22.0</td>\n",
       "      <td>36.0</td>\n",
       "      <td>female</td>\n",
       "      <td>9.0</td>\n",
       "      <td>2004-03-26</td>\n",
       "      <td>2.00</td>\n",
       "      <td>0.50</td>\n",
       "      <td>0.0</td>\n",
       "      <td>1.0</td>\n",
       "      <td>...</td>\n",
       "      <td>5.0</td>\n",
       "      <td>4.5</td>\n",
       "      <td>2.0</td>\n",
       "      <td>2017-03-31</td>\n",
       "      <td>0.0</td>\n",
       "      <td>2004.0</td>\n",
       "      <td>3.0</td>\n",
       "      <td>2017.0</td>\n",
       "      <td>3.0</td>\n",
       "      <td>4753.0</td>\n",
       "    </tr>\n",
       "    <tr>\n",
       "      <th>2</th>\n",
       "      <td>STy1UqGkW8U4LNr6usNMy5hpCt1fZs96eLFHmhnb0tE=</td>\n",
       "      <td>10.0</td>\n",
       "      <td>32.0</td>\n",
       "      <td>female</td>\n",
       "      <td>9.0</td>\n",
       "      <td>2004-03-26</td>\n",
       "      <td>3.00</td>\n",
       "      <td>0.50</td>\n",
       "      <td>0.0</td>\n",
       "      <td>1.0</td>\n",
       "      <td>...</td>\n",
       "      <td>6.0</td>\n",
       "      <td>4.0</td>\n",
       "      <td>1.0</td>\n",
       "      <td>2017-03-31</td>\n",
       "      <td>0.0</td>\n",
       "      <td>2004.0</td>\n",
       "      <td>3.0</td>\n",
       "      <td>2017.0</td>\n",
       "      <td>3.0</td>\n",
       "      <td>4753.0</td>\n",
       "    </tr>\n",
       "    <tr>\n",
       "      <th>3</th>\n",
       "      <td>35OTDI3ToY0rj1BtWTbDJ9YV8yDygsv1sNM08SQ7pQc=</td>\n",
       "      <td>22.0</td>\n",
       "      <td>33.0</td>\n",
       "      <td>female</td>\n",
       "      <td>9.0</td>\n",
       "      <td>2004-03-26</td>\n",
       "      <td>4.17</td>\n",
       "      <td>0.86</td>\n",
       "      <td>0.0</td>\n",
       "      <td>3.0</td>\n",
       "      <td>...</td>\n",
       "      <td>6.0</td>\n",
       "      <td>4.0</td>\n",
       "      <td>1.0</td>\n",
       "      <td>2017-03-31</td>\n",
       "      <td>0.0</td>\n",
       "      <td>2004.0</td>\n",
       "      <td>3.0</td>\n",
       "      <td>2017.0</td>\n",
       "      <td>3.0</td>\n",
       "      <td>4753.0</td>\n",
       "    </tr>\n",
       "    <tr>\n",
       "      <th>4</th>\n",
       "      <td>9CqDxOPBQwLzxCOywM3l763Yq4yFQhPhFFk79rPs5x0=</td>\n",
       "      <td>5.0</td>\n",
       "      <td>0.0</td>\n",
       "      <td>male</td>\n",
       "      <td>9.0</td>\n",
       "      <td>2004-03-26</td>\n",
       "      <td>4.11</td>\n",
       "      <td>3.83</td>\n",
       "      <td>0.0</td>\n",
       "      <td>19.0</td>\n",
       "      <td>...</td>\n",
       "      <td>0.0</td>\n",
       "      <td>4.0</td>\n",
       "      <td>1.0</td>\n",
       "      <td>2017-03-17</td>\n",
       "      <td>0.0</td>\n",
       "      <td>2004.0</td>\n",
       "      <td>3.0</td>\n",
       "      <td>2017.0</td>\n",
       "      <td>3.0</td>\n",
       "      <td>4739.0</td>\n",
       "    </tr>\n",
       "  </tbody>\n",
       "</table>\n",
       "<p>5 rows × 54 columns</p>\n",
       "</div>"
      ],
      "text/plain": [
       "                                           msno  city    bd  gender  \\\n",
       "0  P7W1hJVPC9+lZf5WLhskxKvQQEJJdpKkKVu4v7RA0zQ=  13.0  29.0  female   \n",
       "1  yKDUvz1yO1xZ/fwG0bMyIa5K+w7+kIAc+qV3vZKYz9E=  22.0  36.0  female   \n",
       "2  STy1UqGkW8U4LNr6usNMy5hpCt1fZs96eLFHmhnb0tE=  10.0  32.0  female   \n",
       "3  35OTDI3ToY0rj1BtWTbDJ9YV8yDygsv1sNM08SQ7pQc=  22.0  33.0  female   \n",
       "4  9CqDxOPBQwLzxCOywM3l763Yq4yFQhPhFFk79rPs5x0=   5.0   0.0    male   \n",
       "\n",
       "   registered_via registration_init_time  num_25_mean  num_50_mean  \\\n",
       "0             9.0             2004-03-26         2.86         0.00   \n",
       "1             9.0             2004-03-26         2.00         0.50   \n",
       "2             9.0             2004-03-26         3.00         0.50   \n",
       "3             9.0             2004-03-26         4.17         0.86   \n",
       "4             9.0             2004-03-26         4.11         3.83   \n",
       "\n",
       "   num_50_min  num_50_max  ...  membership_expire_day_of_week_mean  \\\n",
       "0         0.0         0.0  ...                                 3.0   \n",
       "1         0.0         1.0  ...                                 5.0   \n",
       "2         0.0         1.0  ...                                 6.0   \n",
       "3         0.0         3.0  ...                                 6.0   \n",
       "4         0.0        19.0  ...                                 0.0   \n",
       "\n",
       "   membership_expire_month_mean  membership_expire_month_count  \\\n",
       "0                           4.0                            1.0   \n",
       "1                           4.5                            2.0   \n",
       "2                           4.0                            1.0   \n",
       "3                           4.0                            1.0   \n",
       "4                           4.0                            1.0   \n",
       "\n",
       "   last_transaction_date  is_churn  registration_year  registration_month  \\\n",
       "0             2017-03-01       0.0             2004.0                 3.0   \n",
       "1             2017-03-31       0.0             2004.0                 3.0   \n",
       "2             2017-03-31       0.0             2004.0                 3.0   \n",
       "3             2017-03-31       0.0             2004.0                 3.0   \n",
       "4             2017-03-17       0.0             2004.0                 3.0   \n",
       "\n",
       "   last_transaction_year  last_transaction_month  usage_period_days  \n",
       "0                 2017.0                     3.0             4723.0  \n",
       "1                 2017.0                     3.0             4753.0  \n",
       "2                 2017.0                     3.0             4753.0  \n",
       "3                 2017.0                     3.0             4753.0  \n",
       "4                 2017.0                     3.0             4739.0  \n",
       "\n",
       "[5 rows x 54 columns]"
      ]
     },
     "execution_count": 18,
     "metadata": {},
     "output_type": "execute_result"
    }
   ],
   "source": [
    "raw_train_df.head()"
   ]
  },
  {
   "cell_type": "code",
   "execution_count": 19,
   "id": "f82b1829-c881-4092-a267-205711c19a81",
   "metadata": {},
   "outputs": [
    {
     "data": {
      "text/html": [
       "<div>\n",
       "<style scoped>\n",
       "    .dataframe tbody tr th:only-of-type {\n",
       "        vertical-align: middle;\n",
       "    }\n",
       "\n",
       "    .dataframe tbody tr th {\n",
       "        vertical-align: top;\n",
       "    }\n",
       "\n",
       "    .dataframe thead th {\n",
       "        text-align: right;\n",
       "    }\n",
       "</style>\n",
       "<table border=\"1\" class=\"dataframe\">\n",
       "  <thead>\n",
       "    <tr style=\"text-align: right;\">\n",
       "      <th></th>\n",
       "      <th>city</th>\n",
       "      <th>bd</th>\n",
       "      <th>gender</th>\n",
       "      <th>registered_via</th>\n",
       "      <th>num_25_mean</th>\n",
       "      <th>num_50_mean</th>\n",
       "      <th>num_50_min</th>\n",
       "      <th>num_50_max</th>\n",
       "      <th>num_50_std</th>\n",
       "      <th>num_75_mean</th>\n",
       "      <th>...</th>\n",
       "      <th>transaction_day_of_year_max</th>\n",
       "      <th>membership_expire_day_of_week_mean</th>\n",
       "      <th>membership_expire_month_mean</th>\n",
       "      <th>membership_expire_month_count</th>\n",
       "      <th>registration_year</th>\n",
       "      <th>registration_month</th>\n",
       "      <th>last_transaction_year</th>\n",
       "      <th>last_transaction_month</th>\n",
       "      <th>usage_period_days</th>\n",
       "      <th>is_churn</th>\n",
       "    </tr>\n",
       "  </thead>\n",
       "  <tbody>\n",
       "    <tr>\n",
       "      <th>0</th>\n",
       "      <td>13.0</td>\n",
       "      <td>0.753517</td>\n",
       "      <td>-1</td>\n",
       "      <td>9.0</td>\n",
       "      <td>-0.370597</td>\n",
       "      <td>-0.832318</td>\n",
       "      <td>-0.099333</td>\n",
       "      <td>-0.669389</td>\n",
       "      <td>-0.776265</td>\n",
       "      <td>-0.802106</td>\n",
       "      <td>...</td>\n",
       "      <td>-0.654925</td>\n",
       "      <td>-0.149502</td>\n",
       "      <td>-0.180628</td>\n",
       "      <td>-0.166229</td>\n",
       "      <td>-2.975821</td>\n",
       "      <td>-1.001783</td>\n",
       "      <td>0.061397</td>\n",
       "      <td>-0.036571</td>\n",
       "      <td>3.109596</td>\n",
       "      <td>0.0</td>\n",
       "    </tr>\n",
       "    <tr>\n",
       "      <th>1</th>\n",
       "      <td>22.0</td>\n",
       "      <td>1.115001</td>\n",
       "      <td>-1</td>\n",
       "      <td>9.0</td>\n",
       "      <td>-0.498730</td>\n",
       "      <td>-0.510300</td>\n",
       "      <td>-0.099333</td>\n",
       "      <td>-0.569047</td>\n",
       "      <td>-0.481149</td>\n",
       "      <td>-0.973001</td>\n",
       "      <td>...</td>\n",
       "      <td>0.307792</td>\n",
       "      <td>0.842618</td>\n",
       "      <td>0.720690</td>\n",
       "      <td>0.488523</td>\n",
       "      <td>-2.975821</td>\n",
       "      <td>-1.001783</td>\n",
       "      <td>0.061397</td>\n",
       "      <td>-0.036571</td>\n",
       "      <td>3.137803</td>\n",
       "      <td>0.0</td>\n",
       "    </tr>\n",
       "    <tr>\n",
       "      <th>2</th>\n",
       "      <td>10.0</td>\n",
       "      <td>0.908439</td>\n",
       "      <td>-1</td>\n",
       "      <td>9.0</td>\n",
       "      <td>-0.349738</td>\n",
       "      <td>-0.510300</td>\n",
       "      <td>-0.099333</td>\n",
       "      <td>-0.569047</td>\n",
       "      <td>-0.535184</td>\n",
       "      <td>-0.973001</td>\n",
       "      <td>...</td>\n",
       "      <td>0.307792</td>\n",
       "      <td>1.338677</td>\n",
       "      <td>-0.180628</td>\n",
       "      <td>-0.166229</td>\n",
       "      <td>-2.975821</td>\n",
       "      <td>-1.001783</td>\n",
       "      <td>0.061397</td>\n",
       "      <td>-0.036571</td>\n",
       "      <td>3.137803</td>\n",
       "      <td>0.0</td>\n",
       "    </tr>\n",
       "    <tr>\n",
       "      <th>3</th>\n",
       "      <td>22.0</td>\n",
       "      <td>0.960080</td>\n",
       "      <td>-1</td>\n",
       "      <td>9.0</td>\n",
       "      <td>-0.175418</td>\n",
       "      <td>-0.278446</td>\n",
       "      <td>-0.099333</td>\n",
       "      <td>-0.368361</td>\n",
       "      <td>-0.335669</td>\n",
       "      <td>-0.301627</td>\n",
       "      <td>...</td>\n",
       "      <td>0.307792</td>\n",
       "      <td>1.338677</td>\n",
       "      <td>-0.180628</td>\n",
       "      <td>-0.166229</td>\n",
       "      <td>-2.975821</td>\n",
       "      <td>-1.001783</td>\n",
       "      <td>0.061397</td>\n",
       "      <td>-0.036571</td>\n",
       "      <td>3.137803</td>\n",
       "      <td>0.0</td>\n",
       "    </tr>\n",
       "    <tr>\n",
       "      <th>4</th>\n",
       "      <td>5.0</td>\n",
       "      <td>-0.744061</td>\n",
       "      <td>1</td>\n",
       "      <td>9.0</td>\n",
       "      <td>-0.184357</td>\n",
       "      <td>1.634343</td>\n",
       "      <td>-0.099333</td>\n",
       "      <td>1.237121</td>\n",
       "      <td>1.622076</td>\n",
       "      <td>2.420491</td>\n",
       "      <td>...</td>\n",
       "      <td>-0.141476</td>\n",
       "      <td>-1.637681</td>\n",
       "      <td>-0.180628</td>\n",
       "      <td>-0.166229</td>\n",
       "      <td>-2.975821</td>\n",
       "      <td>-1.001783</td>\n",
       "      <td>0.061397</td>\n",
       "      <td>-0.036571</td>\n",
       "      <td>3.124640</td>\n",
       "      <td>0.0</td>\n",
       "    </tr>\n",
       "  </tbody>\n",
       "</table>\n",
       "<p>5 rows × 51 columns</p>\n",
       "</div>"
      ],
      "text/plain": [
       "   city        bd  gender  registered_via  num_25_mean  num_50_mean  \\\n",
       "0  13.0  0.753517      -1             9.0    -0.370597    -0.832318   \n",
       "1  22.0  1.115001      -1             9.0    -0.498730    -0.510300   \n",
       "2  10.0  0.908439      -1             9.0    -0.349738    -0.510300   \n",
       "3  22.0  0.960080      -1             9.0    -0.175418    -0.278446   \n",
       "4   5.0 -0.744061       1             9.0    -0.184357     1.634343   \n",
       "\n",
       "   num_50_min  num_50_max  num_50_std  num_75_mean  ...  \\\n",
       "0   -0.099333   -0.669389   -0.776265    -0.802106  ...   \n",
       "1   -0.099333   -0.569047   -0.481149    -0.973001  ...   \n",
       "2   -0.099333   -0.569047   -0.535184    -0.973001  ...   \n",
       "3   -0.099333   -0.368361   -0.335669    -0.301627  ...   \n",
       "4   -0.099333    1.237121    1.622076     2.420491  ...   \n",
       "\n",
       "   transaction_day_of_year_max  membership_expire_day_of_week_mean  \\\n",
       "0                    -0.654925                           -0.149502   \n",
       "1                     0.307792                            0.842618   \n",
       "2                     0.307792                            1.338677   \n",
       "3                     0.307792                            1.338677   \n",
       "4                    -0.141476                           -1.637681   \n",
       "\n",
       "   membership_expire_month_mean  membership_expire_month_count  \\\n",
       "0                     -0.180628                      -0.166229   \n",
       "1                      0.720690                       0.488523   \n",
       "2                     -0.180628                      -0.166229   \n",
       "3                     -0.180628                      -0.166229   \n",
       "4                     -0.180628                      -0.166229   \n",
       "\n",
       "   registration_year  registration_month  last_transaction_year  \\\n",
       "0          -2.975821           -1.001783               0.061397   \n",
       "1          -2.975821           -1.001783               0.061397   \n",
       "2          -2.975821           -1.001783               0.061397   \n",
       "3          -2.975821           -1.001783               0.061397   \n",
       "4          -2.975821           -1.001783               0.061397   \n",
       "\n",
       "   last_transaction_month  usage_period_days  is_churn  \n",
       "0               -0.036571           3.109596       0.0  \n",
       "1               -0.036571           3.137803       0.0  \n",
       "2               -0.036571           3.137803       0.0  \n",
       "3               -0.036571           3.137803       0.0  \n",
       "4               -0.036571           3.124640       0.0  \n",
       "\n",
       "[5 rows x 51 columns]"
      ]
     },
     "execution_count": 19,
     "metadata": {},
     "output_type": "execute_result"
    }
   ],
   "source": [
    "train_df.head()"
   ]
  },
  {
   "cell_type": "markdown",
   "id": "43354f83-7606-4df9-8d1b-4057f59069af",
   "metadata": {},
   "source": [
    "## Evaluation of Churn Predicts\n",
    "\n",
    "To come up with bussiness metric for perfomance of this model, I assume the following:\n",
    "1) If we know that the customer is up to leave our service, we will give him a promo of **80% discount for 1 year**\n",
    "   which costs us about **20 USD**\n",
    "\n",
    "2) We really care about those who use our service already for a long time. We really want to be **accurate** in predictions about **long-living clients**. Let's assume that if we lose our client, **we lose about 1/4 of his LTV**\n",
    "\n",
    "\n",
    "### Bussiness metric\n",
    "\n",
    "In order to evaluate the model, I would like to state the following LOSS formula to estimate.\n",
    "We weight missclassification according to potential expenses of our company.\n",
    "\n",
    "\n",
    "$$\n",
    "\\[\n",
    "\\begin{aligned}\n",
    "&\\text{Let's define the following variables:} \\\\\n",
    "&\\hat{y} : \\text{Predicted churn labels (1 for churn, 0 for no churn)} \\\\\n",
    "&y : \\text{Actual churn labels (1 for churn, 0 for no churn)} \\\\\n",
    "&LTV : \\text{Lifetime value of a customer} \\\\\n",
    "&C_{\\text{promo}} : \\text{Cost of the promo offer (\\$20)} \\\\\n",
    "&\\alpha : \\text{Fraction of LTV lost if a long-term client churns (0.25)} \\\\\n",
    "&X_{\\text{long}} : \\text{Indicator function for long-term clients} \\\\\n",
    "\\\\\n",
    "&\\text{The business loss formula can be written as follows:} \\\\\n",
    "&\\text{Business Loss} = \\sum_{i=1}^{n} \\left( \\hat{y}_i (1 - y_i) C_{\\text{promo}} + y_i (1 - \\hat{y}_i) \\alpha \\cdot LTV_i \\cdot X_{\\text{long}, i} \\right) \\\\\n",
    "\\\\\n",
    "&\\text{This formula comprises two components:} \\\\\n",
    "&\\text{1. False Positives Cost: } \\hat{y}_i (1 - y_i) C_{\\text{promo}} \\\\\n",
    "&\\quad \\text{When we predict a customer will churn (} \\hat{y}_i = 1 \\text{) but they do not churn (} y_i = 0 \\text{), we incur the cost of the promo offer (} C_{\\text{promo}} \\text{).} \\\\\n",
    "&\\text{2. False Negatives Cost: } y_i (1 - \\hat{y}_i) \\alpha \\cdot LTV_i \\cdot X_{\\text{long}, i} \\\\\n",
    "&\\quad \\text{When we fail to predict a churn (} \\hat{y}_i = 0 \\text{) but the customer churns (} y_i = 1 \\text{), we lose a fraction (} \\alpha \\text{) of the customer's LTV if they are a long-term client (} X_{\\text{long}, i} = 1 \\text{).} \\\\\n",
    "\\\\\n",
    "&\\text{To further clarify:} \\\\\n",
    "&\\hat{y}_i (1 - y_i) \\text{ identifies false positives (cases where the model incorrectly predicts churn).} \\\\\n",
    "&y_i (1 - \\hat{y}_i) \\text{ identifies false negatives (cases where the model fails to predict churn).}\n",
    "\\end{aligned}\n",
    "\\]\n",
    "$$\n"
   ]
  },
  {
   "cell_type": "code",
   "execution_count": 45,
   "id": "414773bb-5cd0-4328-950d-41aebefbfd9f",
   "metadata": {},
   "outputs": [],
   "source": [
    "def calculate_business_loss(y_pred, y_test, LTV,  promo_cost=20, alpha=0.25):\n",
    "    \"\"\"\n",
    "    Calculate the business loss based on predictions and actual values.\n",
    "\n",
    "    Args:\n",
    "        y_pred (array-like): Predicted churn labels.\n",
    "        y_test (array-like): Actual churn labels.\n",
    "        LTV (array-like): Lifetime values of customers.\n",
    "        promo_cost (float): Cost of the promo offer.\n",
    "        alpha (float): Fraction of LTV lost if a long-term client churns.\n",
    "\n",
    "    Returns:\n",
    "        float: Total business loss.\n",
    "    \"\"\"\n",
    "    false_positives_cost = sum(y_pred[i] * (1 - y_test[i]) * promo_cost for i in range(len(y_pred)))\n",
    "    false_negatives_cost = sum(y_test[i] * (1 - y_pred[i]) * alpha * LTV[i]  for i in range(len(y_pred)))\n",
    "\n",
    "    total_loss = false_positives_cost + false_negatives_cost\n",
    "    return total_loss"
   ]
  },
  {
   "cell_type": "code",
   "execution_count": 66,
   "id": "5807323c-6506-4147-96b4-07fb5d80c5da",
   "metadata": {},
   "outputs": [],
   "source": [
    "X_train, y_train = train_df.drop(\"is_churn\", axis=1), train_df[\"is_churn\"]\n",
    "X_val, y_val = val_df.drop(\"is_churn\", axis=1), val_df[\"is_churn\"]\n",
    "X_test, y_test = test_df.drop(\"is_churn\", axis=1), test_df[\"is_churn\"]"
   ]
  },
  {
   "cell_type": "code",
   "execution_count": 67,
   "id": "b84d684f-4fec-4e46-a210-7f971c4c1d2a",
   "metadata": {},
   "outputs": [],
   "source": [
    "val_ltvs = raw_val_df[\"actual_amount_paid_mean\"] * raw_val_df[\"is_cancel_mean\"]\n",
    "train_ltvs = raw_train_df[\"actual_amount_paid_mean\"] * raw_train_df[\"actual_amount_paid_mean\"]\n",
    "\n",
    "\n"
   ]
  },
  {
   "cell_type": "markdown",
   "id": "9b645fad-bd87-40c1-b70a-d913bf44e026",
   "metadata": {},
   "source": [
    "## Random Predictor Baseline"
   ]
  },
  {
   "cell_type": "code",
   "execution_count": 62,
   "id": "8a72eb47-5ea6-4c22-8ce4-d2d90dbb1d55",
   "metadata": {},
   "outputs": [],
   "source": [
    "np.random.seed(2)\n",
    "\n",
    "train_prob_churn = train_df['is_churn'].mean()\n",
    "val_predicts = np.random.choice([0, 1], size=len(val_df), p=[1 - train_prob_churn, train_prob_churn])\n",
    "train_predicts = np.random.choice([0, 1], size=len(train_df), p=[1 - train_prob_churn, train_prob_churn])"
   ]
  },
  {
   "cell_type": "code",
   "execution_count": 79,
   "id": "f1fd69d2-9b66-44cf-ae68-957afd1b84ec",
   "metadata": {},
   "outputs": [
    {
     "data": {
      "text/plain": [
       "0.8430962343096234"
      ]
     },
     "execution_count": 79,
     "metadata": {},
     "output_type": "execute_result"
    }
   ],
   "source": [
    "np.mean(val_predicts == val_df[\"is_churn\"])"
   ]
  },
  {
   "cell_type": "code",
   "execution_count": 75,
   "id": "c61d2515-7d57-4469-a6a2-aa992a5aff51",
   "metadata": {},
   "outputs": [
    {
     "data": {
      "text/plain": [
       "9258.681450480002"
      ]
     },
     "execution_count": 75,
     "metadata": {},
     "output_type": "execute_result"
    }
   ],
   "source": [
    "calculate_business_loss(val_predicts, val_df[\"is_churn\"], val_ltvs)\n"
   ]
  },
  {
   "cell_type": "markdown",
   "id": "dd1a82da-7e38-473e-a702-17d710d5b219",
   "metadata": {},
   "source": [
    "## Logistic Regression Predictor Baseline"
   ]
  },
  {
   "cell_type": "code",
   "execution_count": 68,
   "id": "e5a02494-3089-4bbb-a70b-b710de884da8",
   "metadata": {},
   "outputs": [
    {
     "data": {
      "text/html": [
       "<style>#sk-container-id-1 {color: black;}#sk-container-id-1 pre{padding: 0;}#sk-container-id-1 div.sk-toggleable {background-color: white;}#sk-container-id-1 label.sk-toggleable__label {cursor: pointer;display: block;width: 100%;margin-bottom: 0;padding: 0.3em;box-sizing: border-box;text-align: center;}#sk-container-id-1 label.sk-toggleable__label-arrow:before {content: \"▸\";float: left;margin-right: 0.25em;color: #696969;}#sk-container-id-1 label.sk-toggleable__label-arrow:hover:before {color: black;}#sk-container-id-1 div.sk-estimator:hover label.sk-toggleable__label-arrow:before {color: black;}#sk-container-id-1 div.sk-toggleable__content {max-height: 0;max-width: 0;overflow: hidden;text-align: left;background-color: #f0f8ff;}#sk-container-id-1 div.sk-toggleable__content pre {margin: 0.2em;color: black;border-radius: 0.25em;background-color: #f0f8ff;}#sk-container-id-1 input.sk-toggleable__control:checked~div.sk-toggleable__content {max-height: 200px;max-width: 100%;overflow: auto;}#sk-container-id-1 input.sk-toggleable__control:checked~label.sk-toggleable__label-arrow:before {content: \"▾\";}#sk-container-id-1 div.sk-estimator input.sk-toggleable__control:checked~label.sk-toggleable__label {background-color: #d4ebff;}#sk-container-id-1 div.sk-label input.sk-toggleable__control:checked~label.sk-toggleable__label {background-color: #d4ebff;}#sk-container-id-1 input.sk-hidden--visually {border: 0;clip: rect(1px 1px 1px 1px);clip: rect(1px, 1px, 1px, 1px);height: 1px;margin: -1px;overflow: hidden;padding: 0;position: absolute;width: 1px;}#sk-container-id-1 div.sk-estimator {font-family: monospace;background-color: #f0f8ff;border: 1px dotted black;border-radius: 0.25em;box-sizing: border-box;margin-bottom: 0.5em;}#sk-container-id-1 div.sk-estimator:hover {background-color: #d4ebff;}#sk-container-id-1 div.sk-parallel-item::after {content: \"\";width: 100%;border-bottom: 1px solid gray;flex-grow: 1;}#sk-container-id-1 div.sk-label:hover label.sk-toggleable__label {background-color: #d4ebff;}#sk-container-id-1 div.sk-serial::before {content: \"\";position: absolute;border-left: 1px solid gray;box-sizing: border-box;top: 0;bottom: 0;left: 50%;z-index: 0;}#sk-container-id-1 div.sk-serial {display: flex;flex-direction: column;align-items: center;background-color: white;padding-right: 0.2em;padding-left: 0.2em;position: relative;}#sk-container-id-1 div.sk-item {position: relative;z-index: 1;}#sk-container-id-1 div.sk-parallel {display: flex;align-items: stretch;justify-content: center;background-color: white;position: relative;}#sk-container-id-1 div.sk-item::before, #sk-container-id-1 div.sk-parallel-item::before {content: \"\";position: absolute;border-left: 1px solid gray;box-sizing: border-box;top: 0;bottom: 0;left: 50%;z-index: -1;}#sk-container-id-1 div.sk-parallel-item {display: flex;flex-direction: column;z-index: 1;position: relative;background-color: white;}#sk-container-id-1 div.sk-parallel-item:first-child::after {align-self: flex-end;width: 50%;}#sk-container-id-1 div.sk-parallel-item:last-child::after {align-self: flex-start;width: 50%;}#sk-container-id-1 div.sk-parallel-item:only-child::after {width: 0;}#sk-container-id-1 div.sk-dashed-wrapped {border: 1px dashed gray;margin: 0 0.4em 0.5em 0.4em;box-sizing: border-box;padding-bottom: 0.4em;background-color: white;}#sk-container-id-1 div.sk-label label {font-family: monospace;font-weight: bold;display: inline-block;line-height: 1.2em;}#sk-container-id-1 div.sk-label-container {text-align: center;}#sk-container-id-1 div.sk-container {/* jupyter's `normalize.less` sets `[hidden] { display: none; }` but bootstrap.min.css set `[hidden] { display: none !important; }` so we also need the `!important` here to be able to override the default hidden behavior on the sphinx rendered scikit-learn.org. See: https://github.com/scikit-learn/scikit-learn/issues/21755 */display: inline-block !important;position: relative;}#sk-container-id-1 div.sk-text-repr-fallback {display: none;}</style><div id=\"sk-container-id-1\" class=\"sk-top-container\"><div class=\"sk-text-repr-fallback\"><pre>LogisticRegression(random_state=2)</pre><b>In a Jupyter environment, please rerun this cell to show the HTML representation or trust the notebook. <br />On GitHub, the HTML representation is unable to render, please try loading this page with nbviewer.org.</b></div><div class=\"sk-container\" hidden><div class=\"sk-item\"><div class=\"sk-estimator sk-toggleable\"><input class=\"sk-toggleable__control sk-hidden--visually\" id=\"sk-estimator-id-1\" type=\"checkbox\" checked><label for=\"sk-estimator-id-1\" class=\"sk-toggleable__label sk-toggleable__label-arrow\">LogisticRegression</label><div class=\"sk-toggleable__content\"><pre>LogisticRegression(random_state=2)</pre></div></div></div></div></div>"
      ],
      "text/plain": [
       "LogisticRegression(random_state=2)"
      ]
     },
     "execution_count": 68,
     "metadata": {},
     "output_type": "execute_result"
    }
   ],
   "source": [
    "from sklearn.linear_model import LogisticRegression\n",
    "\n",
    "\n",
    "logreg = LogisticRegression(random_state=2)\n",
    "logreg.fit(X_train, y_train)"
   ]
  },
  {
   "cell_type": "code",
   "execution_count": 91,
   "id": "3a443a10-38e3-4bff-9a01-33b263e941aa",
   "metadata": {},
   "outputs": [
    {
     "data": {
      "text/plain": [
       "725.7424151600006"
      ]
     },
     "execution_count": 91,
     "metadata": {},
     "output_type": "execute_result"
    }
   ],
   "source": [
    "t = 0.5\n",
    "logreg_val_probs = logreg.predict_proba(X_val)[:, 1]\n",
    "logreg_val_predicts = (logreg_val_probs > t)\n",
    "\n",
    "calculate_business_loss(logreg_val_predicts, val_df[\"is_churn\"], val_ltvs)"
   ]
  },
  {
   "cell_type": "markdown",
   "id": "ff52dab4-6de0-46be-b038-5e8c73a0082c",
   "metadata": {},
   "source": [
    "### Treshold tunning"
   ]
  },
  {
   "cell_type": "code",
   "execution_count": 96,
   "id": "8d76abb2-9b1c-4f34-8ab2-d5d01216d76e",
   "metadata": {},
   "outputs": [],
   "source": [
    "treshold_cands = np.linspace(0.2, 1, 200)\n",
    "\n",
    "logres_losses = []\n",
    "\n",
    "for t_cand in treshold_cands:\n",
    "\n",
    "    cand_predicts = (logreg_val_probs > t_cand)\n",
    "    loss = calculate_business_loss(cand_predicts, val_df[\"is_churn\"], val_ltvs)\n",
    "    logres_losses.append(loss)"
   ]
  },
  {
   "cell_type": "code",
   "execution_count": 117,
   "id": "e520e56e-5947-41b7-b944-379f8e7aeaca",
   "metadata": {},
   "outputs": [
    {
     "data": {
      "text/plain": [
       "<matplotlib.legend.Legend at 0x7d8278563e20>"
      ]
     },
     "execution_count": 117,
     "metadata": {},
     "output_type": "execute_result"
    },
    {
     "data": {
      "image/png": "[encoded data removed]",
      "text/plain": [
       "<Figure size 720x360 with 1 Axes>"
      ]
     },
     "metadata": {
      "needs_background": "light"
     },
     "output_type": "display_data"
    }
   ],
   "source": [
    "\n",
    "best_t  = treshold_cands[np.argmin(logres_losses)]\n",
    "\n",
    "plt.figure(figsize=(10, 5))\n",
    "plt.title(\"Treshold for Logistic Regression vs Expenses Loss\", fontsize=12)\n",
    "plt.xlabel(\"Treshold\")\n",
    "plt.ylabel(\"Loss\")\n",
    "plt.plot(treshold_cands, logres_losses, color=\"blue\", linewidth=3)\n",
    "plt.axvline(x=best_t, linewidth=0.5, color=\"red\", label=f\"Min Loss = {np.round(np.min(logres_losses), 2)}\")\n",
    "plt.legend()"
   ]
  },
  {
   "cell_type": "markdown",
   "id": "75a500d3-b333-4383-86be-bbbb1af8161d",
   "metadata": {},
   "source": [
    "## Xgboost Tunning\n"
   ]
  },
  {
   "cell_type": "code",
   "execution_count": 134,
   "id": "6bc7bdfd-e0da-4f60-9b48-ec2abb7718f2",
   "metadata": {},
   "outputs": [
    {
     "name": "stderr",
     "output_type": "stream",
     "text": [
      "[I 2024-08-07 19:10:16,928] A new study created in memory with name: no-name-f64dec71-ee38-4911-85ea-d53005058e5a\n",
      "[I 2024-08-07 19:10:26,615] Trial 0 finished with value: 0.9829069648600279 and parameters: {'max_depth': 10, 'learning_rate': 0.2566805209227741, 'n_estimators': 748, 'min_child_weight': 2, 'gamma': 0.00020238994503133737, 'subsample': 0.9386992590106045, 'colsample_bytree': 0.04890303768304045, 'reg_alpha': 0.021598624904996366, 'reg_lambda': 0.4039361258021696}. Best is trial 0 with value: 0.9829069648600279.\n",
      "[I 2024-08-07 19:10:31,658] Trial 1 finished with value: 0.9875104831338426 and parameters: {'max_depth': 8, 'learning_rate': 0.10675330460517067, 'n_estimators': 390, 'min_child_weight': 2, 'gamma': 4.462487862220327e-06, 'subsample': 0.8134031040272469, 'colsample_bytree': 0.29593409915550395, 'reg_alpha': 3.448126535757634e-05, 'reg_lambda': 0.08148665969470692}. Best is trial 1 with value: 0.9875104831338426.\n",
      "[I 2024-08-07 19:10:33,934] Trial 2 finished with value: 0.9737477683700385 and parameters: {'max_depth': 2, 'learning_rate': 0.07638743808550186, 'n_estimators': 386, 'min_child_weight': 3, 'gamma': 0.17157645570870994, 'subsample': 0.5066842322921522, 'colsample_bytree': 0.01640352948281151, 'reg_alpha': 0.013776214096952623, 'reg_lambda': 0.0003552003293691181}. Best is trial 1 with value: 0.9875104831338426.\n",
      "[I 2024-08-07 19:10:39,124] Trial 3 finished with value: 0.9769856704530382 and parameters: {'max_depth': 2, 'learning_rate': 0.9791956339926505, 'n_estimators': 718, 'min_child_weight': 5, 'gamma': 0.07244248487728883, 'subsample': 0.9741211967877257, 'colsample_bytree': 0.10879884958570037, 'reg_alpha': 6.046804557201849e-06, 'reg_lambda': 0.03824445762140655}. Best is trial 1 with value: 0.9875104831338426.\n",
      "[I 2024-08-07 19:10:41,250] Trial 4 finished with value: 0.9742667605104969 and parameters: {'max_depth': 3, 'learning_rate': 0.21626797026843775, 'n_estimators': 266, 'min_child_weight': 1, 'gamma': 9.983992593349947e-08, 'subsample': 0.8626900470498519, 'colsample_bytree': 0.01819313312263687, 'reg_alpha': 0.11387290674572499, 'reg_lambda': 0.0008174405842504014}. Best is trial 1 with value: 0.9875104831338426.\n",
      "[I 2024-08-07 19:10:44,279] Trial 5 finished with value: 0.9682889278535688 and parameters: {'max_depth': 7, 'learning_rate': 0.5156052660514171, 'n_estimators': 263, 'min_child_weight': 6, 'gamma': 0.06251224697247955, 'subsample': 0.34186536004965534, 'colsample_bytree': 0.6646961634561176, 'reg_alpha': 0.000468617229185537, 'reg_lambda': 1.1446138363793956e-07}. Best is trial 1 with value: 0.9875104831338426.\n",
      "[I 2024-08-07 19:10:49,820] Trial 6 finished with value: 0.9809274012628325 and parameters: {'max_depth': 8, 'learning_rate': 0.23752448602525886, 'n_estimators': 481, 'min_child_weight': 5, 'gamma': 1.9751864833265475e-07, 'subsample': 0.35251708961854894, 'colsample_bytree': 0.04051232210243071, 'reg_alpha': 3.475118598491436e-06, 'reg_lambda': 6.557790945379193e-06}. Best is trial 1 with value: 0.9875104831338426.\n",
      "[I 2024-08-07 19:10:56,675] Trial 7 finished with value: 0.9572356999906495 and parameters: {'max_depth': 4, 'learning_rate': 0.42690351790027575, 'n_estimators': 628, 'min_child_weight': 3, 'gamma': 3.39879173540839e-08, 'subsample': 0.10138200476499985, 'colsample_bytree': 0.015525273964262882, 'reg_alpha': 1.236279667664232e-05, 'reg_lambda': 0.008093631536217389}. Best is trial 1 with value: 0.9875104831338426.\n",
      "[I 2024-08-07 19:11:01,786] Trial 8 finished with value: 0.9237074305032555 and parameters: {'max_depth': 7, 'learning_rate': 0.7959364390213094, 'n_estimators': 547, 'min_child_weight': 3, 'gamma': 0.14237059671759397, 'subsample': 0.16332052909621156, 'colsample_bytree': 0.41449917858454155, 'reg_alpha': 2.3456685032212103e-06, 'reg_lambda': 0.6861754402578586}. Best is trial 1 with value: 0.9875104831338426.\n",
      "[I 2024-08-07 19:11:05,690] Trial 9 finished with value: 0.9605739937097574 and parameters: {'max_depth': 4, 'learning_rate': 0.9984435705458364, 'n_estimators': 474, 'min_child_weight': 9, 'gamma': 1.2745854586267216e-07, 'subsample': 0.5473815639873881, 'colsample_bytree': 0.3310048860675266, 'reg_alpha': 0.0025961954904055173, 'reg_lambda': 1.6150175130957015e-06}. Best is trial 1 with value: 0.9875104831338426.\n",
      "[I 2024-08-07 19:11:07,234] Trial 10 finished with value: 0.9784212346069178 and parameters: {'max_depth': 10, 'learning_rate': 0.010956124299826994, 'n_estimators': 73, 'min_child_weight': 10, 'gamma': 7.352438447436373e-06, 'subsample': 0.7529799122247492, 'colsample_bytree': 0.15494558448936913, 'reg_alpha': 9.040110893694745e-08, 'reg_lambda': 0.005145893519962369}. Best is trial 1 with value: 0.9875104831338426.\n",
      "[I 2024-08-07 19:11:23,024] Trial 11 finished with value: 0.9828025865524497 and parameters: {'max_depth': 10, 'learning_rate': 0.2341754662335569, 'n_estimators': 788, 'min_child_weight': 1, 'gamma': 0.00031169379252785566, 'subsample': 0.7695246498777977, 'colsample_bytree': 0.05396527773691351, 'reg_alpha': 0.10937917491220508, 'reg_lambda': 0.9509305709344399}. Best is trial 1 with value: 0.9875104831338426.\n",
      "[I 2024-08-07 19:11:28,827] Trial 12 finished with value: 0.9843486902334523 and parameters: {'max_depth': 9, 'learning_rate': 0.383011597123553, 'n_estimators': 326, 'min_child_weight': 2, 'gamma': 3.8386500152947346e-05, 'subsample': 0.9830764511465269, 'colsample_bytree': 0.21850301687754126, 'reg_alpha': 0.00026225413919240555, 'reg_lambda': 0.09279047945121323}. Best is trial 1 with value: 0.9875104831338426.\n",
      "[I 2024-08-07 19:11:33,544] Trial 13 finished with value: 0.9849263951719235 and parameters: {'max_depth': 8, 'learning_rate': 0.4865327384539897, 'n_estimators': 326, 'min_child_weight': 7, 'gamma': 9.560697259409554e-06, 'subsample': 0.9911144393637168, 'colsample_bytree': 0.20557129312230438, 'reg_alpha': 0.000537710370450381, 'reg_lambda': 0.0288280778224279}. Best is trial 1 with value: 0.9875104831338426.\n",
      "[I 2024-08-07 19:11:37,146] Trial 14 finished with value: 0.9806563076028725 and parameters: {'max_depth': 6, 'learning_rate': 0.5920190277528758, 'n_estimators': 146, 'min_child_weight': 7, 'gamma': 2.719023064255096e-06, 'subsample': 0.7313334136773675, 'colsample_bytree': 0.763572411257385, 'reg_alpha': 7.927631207256087e-05, 'reg_lambda': 0.012008851292587367}. Best is trial 1 with value: 0.9875104831338426.\n",
      "[I 2024-08-07 19:11:39,967] Trial 15 finished with value: 0.9830961505425135 and parameters: {'max_depth': 8, 'learning_rate': 0.6259043091218148, 'n_estimators': 197, 'min_child_weight': 8, 'gamma': 2.952485397632909e-06, 'subsample': 0.8419943434198162, 'colsample_bytree': 0.24977353869841953, 'reg_alpha': 0.59872660201321, 'reg_lambda': 0.0010282295402461775}. Best is trial 1 with value: 0.9875104831338426.\n",
      "[I 2024-08-07 19:11:44,594] Trial 16 finished with value: 0.9857034336838947 and parameters: {'max_depth': 6, 'learning_rate': 0.10964160981072837, 'n_estimators': 391, 'min_child_weight': 6, 'gamma': 0.00034233240723223664, 'subsample': 0.6405893984514222, 'colsample_bytree': 0.14630461359740463, 'reg_alpha': 0.002210875701049672, 'reg_lambda': 7.590913901246217e-05}. Best is trial 1 with value: 0.9875104831338426.\n",
      "[I 2024-08-07 19:11:49,166] Trial 17 finished with value: 0.9884926540141795 and parameters: {'max_depth': 5, 'learning_rate': 0.07862411584695833, 'n_estimators': 565, 'min_child_weight': 4, 'gamma': 0.00112942489241158, 'subsample': 0.6510850748296695, 'colsample_bytree': 0.46347901897587823, 'reg_alpha': 4.734598486896585e-05, 'reg_lambda': 4.601731659584671e-05}. Best is trial 17 with value: 0.9884926540141795.\n",
      "[I 2024-08-07 19:11:53,953] Trial 18 finished with value: 0.988212137312563 and parameters: {'max_depth': 5, 'learning_rate': 0.12099590704275398, 'n_estimators': 606, 'min_child_weight': 4, 'gamma': 0.002635004415455513, 'subsample': 0.6358090162768615, 'colsample_bytree': 0.47777852949559624, 'reg_alpha': 5.5114583180844146e-05, 'reg_lambda': 6.628243732091706e-05}. Best is trial 17 with value: 0.9884926540141795.\n",
      "[I 2024-08-07 19:11:58,858] Trial 19 finished with value: 0.9874158902925999 and parameters: {'max_depth': 5, 'learning_rate': 0.028767316930156384, 'n_estimators': 634, 'min_child_weight': 4, 'gamma': 0.0021492603672180256, 'subsample': 0.661204766402065, 'colsample_bytree': 0.5411785995110641, 'reg_alpha': 1.1605229814206188e-06, 'reg_lambda': 4.3939804286423114e-05}. Best is trial 17 with value: 0.9884926540141795.\n",
      "[I 2024-08-07 19:12:02,677] Trial 20 finished with value: 0.977315114486332 and parameters: {'max_depth': 1, 'learning_rate': 0.32620642810545497, 'n_estimators': 619, 'min_child_weight': 4, 'gamma': 0.004960968008590448, 'subsample': 0.6089640843801571, 'colsample_bytree': 0.4745655194703906, 'reg_alpha': 4.057089030763328e-05, 'reg_lambda': 1.984550117584256e-05}. Best is trial 17 with value: 0.9884926540141795.\n",
      "[I 2024-08-07 19:12:10,487] Trial 21 finished with value: 0.9883252138124394 and parameters: {'max_depth': 5, 'learning_rate': 0.13761115574021354, 'n_estimators': 525, 'min_child_weight': 4, 'gamma': 0.003975513702497798, 'subsample': 0.6910031781565507, 'colsample_bytree': 0.9940280009183191, 'reg_alpha': 2.6347082353895073e-05, 'reg_lambda': 0.00032735371451421815}. Best is trial 17 with value: 0.9884926540141795.\n",
      "[I 2024-08-07 19:12:18,049] Trial 22 finished with value: 0.9873133241084171 and parameters: {'max_depth': 5, 'learning_rate': 0.14813227062498294, 'n_estimators': 549, 'min_child_weight': 4, 'gamma': 0.008104828359017845, 'subsample': 0.6903694981472053, 'colsample_bytree': 0.8953790074746191, 'reg_alpha': 2.6618836306104583e-05, 'reg_lambda': 0.0002416819441538881}. Best is trial 17 with value: 0.9884926540141795.\n",
      "[I 2024-08-07 19:12:23,236] Trial 23 finished with value: 0.9875981899061826 and parameters: {'max_depth': 4, 'learning_rate': 0.13196935843395782, 'n_estimators': 558, 'min_child_weight': 5, 'gamma': 0.015048223840621456, 'subsample': 0.5760134329400417, 'colsample_bytree': 0.9664416094401926, 'reg_alpha': 4.121495540329227e-07, 'reg_lambda': 1.0496799512235946e-05}. Best is trial 17 with value: 0.9884926540141795.\n",
      "[I 2024-08-07 19:12:28,968] Trial 24 finished with value: 0.9863144816928422 and parameters: {'max_depth': 5, 'learning_rate': 0.17528266209035523, 'n_estimators': 682, 'min_child_weight': 4, 'gamma': 0.9870369913782678, 'subsample': 0.6819437334139149, 'colsample_bytree': 0.5819986923494972, 'reg_alpha': 0.00011048781441574658, 'reg_lambda': 0.0015504925329304826}. Best is trial 17 with value: 0.9884926540141795.\n",
      "[I 2024-08-07 19:12:32,222] Trial 25 finished with value: 0.9834948176895136 and parameters: {'max_depth': 3, 'learning_rate': 0.032831084488216006, 'n_estimators': 481, 'min_child_weight': 3, 'gamma': 0.001675765789359192, 'subsample': 0.46183050710684237, 'colsample_bytree': 0.39383749694436054, 'reg_alpha': 1.1720332940133295e-08, 'reg_lambda': 0.00013764271818701086}. Best is trial 17 with value: 0.9884926540141795.\n",
      "[I 2024-08-07 19:12:41,319] Trial 26 finished with value: 0.9816392033325675 and parameters: {'max_depth': 6, 'learning_rate': 0.2939165100689834, 'n_estimators': 582, 'min_child_weight': 6, 'gamma': 0.0012301531892578805, 'subsample': 0.6209201451847804, 'colsample_bytree': 0.9859595664665367, 'reg_alpha': 1.242951370349492e-05, 'reg_lambda': 7.44354689667635e-05}. Best is trial 17 with value: 0.9884926540141795.\n",
      "[I 2024-08-07 19:12:45,300] Trial 27 finished with value: 0.9869255297017898 and parameters: {'max_depth': 4, 'learning_rate': 0.1686373767446821, 'n_estimators': 459, 'min_child_weight': 5, 'gamma': 0.0007405235437565712, 'subsample': 0.732051467742724, 'colsample_bytree': 0.660969852035465, 'reg_alpha': 1.1888397154308866e-05, 'reg_lambda': 2.215658016100024e-06}. Best is trial 17 with value: 0.9884926540141795.\n",
      "[I 2024-08-07 19:12:51,089] Trial 28 finished with value: 0.988626026296085 and parameters: {'max_depth': 7, 'learning_rate': 0.08063937645096145, 'n_estimators': 681, 'min_child_weight': 4, 'gamma': 8.62306254363105e-05, 'subsample': 0.8852837569305156, 'colsample_bytree': 0.4652673598125954, 'reg_alpha': 6.332729310658914e-05, 'reg_lambda': 0.0003383781482982558}. Best is trial 28 with value: 0.988626026296085.\n",
      "[I 2024-08-07 19:13:00,649] Trial 29 finished with value: 0.9858020131966074 and parameters: {'max_depth': 7, 'learning_rate': 0.2773552616933422, 'n_estimators': 684, 'min_child_weight': 2, 'gamma': 0.00011014088993089627, 'subsample': 0.8926205114194254, 'colsample_bytree': 0.3774647431047196, 'reg_alpha': 1.0772330851053325e-06, 'reg_lambda': 0.0003379824552089993}. Best is trial 28 with value: 0.988626026296085.\n"
     ]
    },
    {
     "name": "stdout",
     "output_type": "stream",
     "text": [
      "Best trial for Gradient Boosting: {'max_depth': 7, 'learning_rate': 0.08063937645096145, 'n_estimators': 681, 'min_child_weight': 4, 'gamma': 8.62306254363105e-05, 'subsample': 0.8852837569305156, 'colsample_bytree': 0.4652673598125954, 'reg_alpha': 6.332729310658914e-05, 'reg_lambda': 0.0003383781482982558}\n"
     ]
    }
   ],
   "source": [
    "from xgboost import XGBClassifier\n",
    "from sklearn.metrics import roc_auc_score\n",
    "\n",
    "\n",
    "def xgb_objective(trial):\n",
    "\n",
    "    param = {\n",
    "        'max_depth': trial.suggest_int('max_depth', 1, 10),\n",
    "        'learning_rate': trial.suggest_float('learning_rate', 0.01, 1.0),\n",
    "        'n_estimators': trial.suggest_int('n_estimators', 50, 800),\n",
    "        'min_child_weight': trial.suggest_int('min_child_weight', 1, 10),\n",
    "        'gamma': trial.suggest_float('gamma', 1e-8, 1.0, log=True),\n",
    "        'subsample': trial.suggest_float('subsample', 0.01, 1.0),\n",
    "        'colsample_bytree': trial.suggest_float('colsample_bytree', 0.01, 1.0, log=True),\n",
    "        'reg_alpha': trial.suggest_float('reg_alpha', 1e-8, 1.0, log=True),\n",
    "        'reg_lambda': trial.suggest_float('reg_lambda', 1e-8, 1.0, log=True),\n",
    "        'eval_metric': 'mlogloss',\n",
    "        'use_label_encoder': False,\n",
    "        #'device' : 'cuda'\n",
    "    }\n",
    "\n",
    "\n",
    "    clf = XGBClassifier(**param)\n",
    "    clf.fit(X_train, y_train)\n",
    "    clf_probs = clf.predict_proba(X_val)[:, 1]\n",
    "    \n",
    "    auc = roc_auc_score(y_val, clf_probs)\n",
    "    return auc\n",
    "\n",
    "\n",
    "xgb_study = optuna.create_study(direction=\"maximize\")\n",
    "xgb_study.optimize(xgb_objective, n_trials=30, timeout=2400)\n",
    "\n",
    "xgb_trial = xgb_study.best_trial\n",
    "print(f'Best trial for Gradient Boosting: {xgb_trial.params}')\n",
    "\n",
    "xgb_study_df = xgb_study.trials_dataframe()\n",
    "xgb_study_df.to_csv(\"xgb_study.csv\", index=False)\n",
    "\n",
    "    \n"
   ]
  },
  {
   "cell_type": "code",
   "execution_count": 138,
   "id": "470beb98-54b9-497e-bd59-9b7619d69a43",
   "metadata": {},
   "outputs": [
    {
     "data": {
      "text/html": [
       "<style>#sk-container-id-5 {color: black;}#sk-container-id-5 pre{padding: 0;}#sk-container-id-5 div.sk-toggleable {background-color: white;}#sk-container-id-5 label.sk-toggleable__label {cursor: pointer;display: block;width: 100%;margin-bottom: 0;padding: 0.3em;box-sizing: border-box;text-align: center;}#sk-container-id-5 label.sk-toggleable__label-arrow:before {content: \"▸\";float: left;margin-right: 0.25em;color: #696969;}#sk-container-id-5 label.sk-toggleable__label-arrow:hover:before {color: black;}#sk-container-id-5 div.sk-estimator:hover label.sk-toggleable__label-arrow:before {color: black;}#sk-container-id-5 div.sk-toggleable__content {max-height: 0;max-width: 0;overflow: hidden;text-align: left;background-color: #f0f8ff;}#sk-container-id-5 div.sk-toggleable__content pre {margin: 0.2em;color: black;border-radius: 0.25em;background-color: #f0f8ff;}#sk-container-id-5 input.sk-toggleable__control:checked~div.sk-toggleable__content {max-height: 200px;max-width: 100%;overflow: auto;}#sk-container-id-5 input.sk-toggleable__control:checked~label.sk-toggleable__label-arrow:before {content: \"▾\";}#sk-container-id-5 div.sk-estimator input.sk-toggleable__control:checked~label.sk-toggleable__label {background-color: #d4ebff;}#sk-container-id-5 div.sk-label input.sk-toggleable__control:checked~label.sk-toggleable__label {background-color: #d4ebff;}#sk-container-id-5 input.sk-hidden--visually {border: 0;clip: rect(1px 1px 1px 1px);clip: rect(1px, 1px, 1px, 1px);height: 1px;margin: -1px;overflow: hidden;padding: 0;position: absolute;width: 1px;}#sk-container-id-5 div.sk-estimator {font-family: monospace;background-color: #f0f8ff;border: 1px dotted black;border-radius: 0.25em;box-sizing: border-box;margin-bottom: 0.5em;}#sk-container-id-5 div.sk-estimator:hover {background-color: #d4ebff;}#sk-container-id-5 div.sk-parallel-item::after {content: \"\";width: 100%;border-bottom: 1px solid gray;flex-grow: 1;}#sk-container-id-5 div.sk-label:hover label.sk-toggleable__label {background-color: #d4ebff;}#sk-container-id-5 div.sk-serial::before {content: \"\";position: absolute;border-left: 1px solid gray;box-sizing: border-box;top: 0;bottom: 0;left: 50%;z-index: 0;}#sk-container-id-5 div.sk-serial {display: flex;flex-direction: column;align-items: center;background-color: white;padding-right: 0.2em;padding-left: 0.2em;position: relative;}#sk-container-id-5 div.sk-item {position: relative;z-index: 1;}#sk-container-id-5 div.sk-parallel {display: flex;align-items: stretch;justify-content: center;background-color: white;position: relative;}#sk-container-id-5 div.sk-item::before, #sk-container-id-5 div.sk-parallel-item::before {content: \"\";position: absolute;border-left: 1px solid gray;box-sizing: border-box;top: 0;bottom: 0;left: 50%;z-index: -1;}#sk-container-id-5 div.sk-parallel-item {display: flex;flex-direction: column;z-index: 1;position: relative;background-color: white;}#sk-container-id-5 div.sk-parallel-item:first-child::after {align-self: flex-end;width: 50%;}#sk-container-id-5 div.sk-parallel-item:last-child::after {align-self: flex-start;width: 50%;}#sk-container-id-5 div.sk-parallel-item:only-child::after {width: 0;}#sk-container-id-5 div.sk-dashed-wrapped {border: 1px dashed gray;margin: 0 0.4em 0.5em 0.4em;box-sizing: border-box;padding-bottom: 0.4em;background-color: white;}#sk-container-id-5 div.sk-label label {font-family: monospace;font-weight: bold;display: inline-block;line-height: 1.2em;}#sk-container-id-5 div.sk-label-container {text-align: center;}#sk-container-id-5 div.sk-container {/* jupyter's `normalize.less` sets `[hidden] { display: none; }` but bootstrap.min.css set `[hidden] { display: none !important; }` so we also need the `!important` here to be able to override the default hidden behavior on the sphinx rendered scikit-learn.org. See: https://github.com/scikit-learn/scikit-learn/issues/21755 */display: inline-block !important;position: relative;}#sk-container-id-5 div.sk-text-repr-fallback {display: none;}</style><div id=\"sk-container-id-5\" class=\"sk-top-container\"><div class=\"sk-text-repr-fallback\"><pre>XGBClassifier(base_score=None, booster=None, callbacks=None,\n",
       "              colsample_bylevel=None, colsample_bynode=None,\n",
       "              colsample_bytree=0.4652673598125954, device=None,\n",
       "              early_stopping_rounds=None, enable_categorical=False,\n",
       "              eval_metric=None, feature_types=None, gamma=8.62306254363105e-05,\n",
       "              grow_policy=None, importance_type=None,\n",
       "              interaction_constraints=None, learning_rate=0.08063937645096145,\n",
       "              max_bin=None, max_cat_threshold=None, max_cat_to_onehot=None,\n",
       "              max_delta_step=None, max_depth=7, max_leaves=None,\n",
       "              min_child_weight=4, missing=nan, monotone_constraints=None,\n",
       "              multi_strategy=None, n_estimators=681, n_jobs=None,\n",
       "              num_parallel_tree=None, random_state=None, ...)</pre><b>In a Jupyter environment, please rerun this cell to show the HTML representation or trust the notebook. <br />On GitHub, the HTML representation is unable to render, please try loading this page with nbviewer.org.</b></div><div class=\"sk-container\" hidden><div class=\"sk-item\"><div class=\"sk-estimator sk-toggleable\"><input class=\"sk-toggleable__control sk-hidden--visually\" id=\"sk-estimator-id-5\" type=\"checkbox\" checked><label for=\"sk-estimator-id-5\" class=\"sk-toggleable__label sk-toggleable__label-arrow\">XGBClassifier</label><div class=\"sk-toggleable__content\"><pre>XGBClassifier(base_score=None, booster=None, callbacks=None,\n",
       "              colsample_bylevel=None, colsample_bynode=None,\n",
       "              colsample_bytree=0.4652673598125954, device=None,\n",
       "              early_stopping_rounds=None, enable_categorical=False,\n",
       "              eval_metric=None, feature_types=None, gamma=8.62306254363105e-05,\n",
       "              grow_policy=None, importance_type=None,\n",
       "              interaction_constraints=None, learning_rate=0.08063937645096145,\n",
       "              max_bin=None, max_cat_threshold=None, max_cat_to_onehot=None,\n",
       "              max_delta_step=None, max_depth=7, max_leaves=None,\n",
       "              min_child_weight=4, missing=nan, monotone_constraints=None,\n",
       "              multi_strategy=None, n_estimators=681, n_jobs=None,\n",
       "              num_parallel_tree=None, random_state=None, ...)</pre></div></div></div></div></div>"
      ],
      "text/plain": [
       "XGBClassifier(base_score=None, booster=None, callbacks=None,\n",
       "              colsample_bylevel=None, colsample_bynode=None,\n",
       "              colsample_bytree=0.4652673598125954, device=None,\n",
       "              early_stopping_rounds=None, enable_categorical=False,\n",
       "              eval_metric=None, feature_types=None, gamma=8.62306254363105e-05,\n",
       "              grow_policy=None, importance_type=None,\n",
       "              interaction_constraints=None, learning_rate=0.08063937645096145,\n",
       "              max_bin=None, max_cat_threshold=None, max_cat_to_onehot=None,\n",
       "              max_delta_step=None, max_depth=7, max_leaves=None,\n",
       "              min_child_weight=4, missing=nan, monotone_constraints=None,\n",
       "              multi_strategy=None, n_estimators=681, n_jobs=None,\n",
       "              num_parallel_tree=None, random_state=None, ...)"
      ]
     },
     "execution_count": 138,
     "metadata": {},
     "output_type": "execute_result"
    }
   ],
   "source": [
    "xgb_model = XGBClassifier(**xgb_trial.params)\n",
    "xgb_model.fit(X_train, y_train)"
   ]
  },
  {
   "cell_type": "code",
   "execution_count": 147,
   "id": "070d4a2f-0509-48f7-b178-8380ea9f3022",
   "metadata": {},
   "outputs": [],
   "source": [
    "xgb_model_probs = xgb_model.predict_proba(X_val)[:, 1]\n"
   ]
  },
  {
   "cell_type": "code",
   "execution_count": 148,
   "id": "e6cdc85e-63fc-4cdb-87bf-6d72f1327486",
   "metadata": {},
   "outputs": [],
   "source": [
    "\n",
    "xgb_losses = []\n",
    "\n",
    "for t_cand in treshold_cands:\n",
    "\n",
    "    xgb_predicts = (xgb_model_probs > t_cand)\n",
    "    loss = calculate_business_loss(xgb_predicts, val_df[\"is_churn\"], val_ltvs)\n",
    "    xgb_losses.append(loss)\n",
    "\n"
   ]
  },
  {
   "cell_type": "code",
   "execution_count": 150,
   "id": "e9531971-1cdb-4b54-b31d-0313333bee2f",
   "metadata": {},
   "outputs": [
    {
     "data": {
      "text/plain": [
       "<matplotlib.legend.Legend at 0x7d8275d84430>"
      ]
     },
     "execution_count": 150,
     "metadata": {},
     "output_type": "execute_result"
    },
    {
     "data": {
      "image/png": "[encoded data removed]",
      "text/plain": [
       "<Figure size 720x360 with 1 Axes>"
      ]
     },
     "metadata": {
      "needs_background": "light"
     },
     "output_type": "display_data"
    }
   ],
   "source": [
    "\n",
    "best_t  = treshold_cands[np.argmin(xgb_losses)]\n",
    "\n",
    "plt.figure(figsize=(10, 5))\n",
    "plt.title(\"Treshold for XGBoost vs Expenses Loss\", fontsize=14)\n",
    "plt.xlabel(\"Treshold\")\n",
    "plt.ylabel(\"Loss\")\n",
    "plt.plot(treshold_cands, xgb_losses, color=\"blue\", linewidth=3)\n",
    "plt.axvline(x=best_t, linewidth=0.5, color=\"red\", label=f\"Min Loss = {np.round(np.min(xgb_losses), 2)}\")\n",
    "plt.legend()"
   ]
  },
  {
   "cell_type": "code",
   "execution_count": null,
   "id": "26a37c39-ab46-4cbe-b32d-7b2a3101d442",
   "metadata": {},
   "outputs": [],
   "source": []
  }
 ],
 "metadata": {
  "kernelspec": {
   "display_name": "Python 3 (ipykernel)",
   "language": "python",
   "name": "python3"
  },
  "language_info": {
   "codemirror_mode": {
    "name": "ipython",
    "version": 3
   },
   "file_extension": ".py",
   "mimetype": "text/x-python",
   "name": "python",
   "nbconvert_exporter": "python",
   "pygments_lexer": "ipython3",
   "version": "3.10.12"
  }
 },
 "nbformat": 4,
 "nbformat_minor": 5
}
