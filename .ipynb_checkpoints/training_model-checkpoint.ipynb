{
 "cells": [
  {
   "cell_type": "code",
   "execution_count": 33,
   "id": "2f7e623d-ea14-4bd4-9334-23787c8b4977",
   "metadata": {},
   "outputs": [],
   "source": [
    "import warnings\n",
    "warnings.filterwarnings(\"ignore\")\n",
    "\n",
    "import pandas as pd\n",
    "import numpy as np\n",
    "from dotenv import load_dotenv\n",
    "import mlflow\n",
    "import optuna\n",
    "import matplotlib.pyplot as plt\n",
    "import seaborn as sns\n",
    "import json"
   ]
  },
  {
   "cell_type": "markdown",
   "id": "a40abd5f-3ccf-441d-a014-919fcb1003a5",
   "metadata": {},
   "source": [
    "## Loading Data Splits"
   ]
  },
  {
   "cell_type": "code",
   "execution_count": 2,
   "id": "32e06c0e-6251-46f9-8292-8e58e2d573e5",
   "metadata": {},
   "outputs": [],
   "source": [
    "#Unprocessed (unscaled data)\n",
    "raw_train_df = pd.read_csv(\"train/splits/train_split.csv\")\n",
    "raw_test_df = pd.read_csv(\"train/splits/test_split.csv\")\n",
    "raw_val_df = pd.read_csv(\"train/splits/val_split.csv\")"
   ]
  },
  {
   "cell_type": "code",
   "execution_count": 3,
   "id": "a5837260-ddb4-432d-9cd4-68e3ca5cc68e",
   "metadata": {},
   "outputs": [],
   "source": [
    "#processed data ready for ML\n",
    "train_df = pd.read_csv(\"train/splits/train_processed.csv\")\n",
    "test_df = pd.read_csv(\"train/splits/test_processed.csv\")\n",
    "val_df = pd.read_csv(\"train/splits/val_processed.csv\")"
   ]
  },
  {
   "cell_type": "code",
   "execution_count": 4,
   "id": "e8a09818-503e-42e4-961d-804e58f6a3c9",
   "metadata": {},
   "outputs": [
    {
     "data": {
      "text/html": [
       "<div>\n",
       "<style scoped>\n",
       "    .dataframe tbody tr th:only-of-type {\n",
       "        vertical-align: middle;\n",
       "    }\n",
       "\n",
       "    .dataframe tbody tr th {\n",
       "        vertical-align: top;\n",
       "    }\n",
       "\n",
       "    .dataframe thead th {\n",
       "        text-align: right;\n",
       "    }\n",
       "</style>\n",
       "<table border=\"1\" class=\"dataframe\">\n",
       "  <thead>\n",
       "    <tr style=\"text-align: right;\">\n",
       "      <th></th>\n",
       "      <th>msno</th>\n",
       "      <th>city</th>\n",
       "      <th>bd</th>\n",
       "      <th>gender</th>\n",
       "      <th>registered_via</th>\n",
       "      <th>registration_init_time</th>\n",
       "      <th>num_25_mean</th>\n",
       "      <th>num_50_mean</th>\n",
       "      <th>num_50_min</th>\n",
       "      <th>num_50_max</th>\n",
       "      <th>...</th>\n",
       "      <th>membership_expire_day_of_week_mean</th>\n",
       "      <th>membership_expire_month_mean</th>\n",
       "      <th>membership_expire_month_count</th>\n",
       "      <th>last_transaction_date</th>\n",
       "      <th>is_churn</th>\n",
       "      <th>registration_year</th>\n",
       "      <th>registration_month</th>\n",
       "      <th>last_transaction_year</th>\n",
       "      <th>last_transaction_month</th>\n",
       "      <th>usage_period_days</th>\n",
       "    </tr>\n",
       "  </thead>\n",
       "  <tbody>\n",
       "    <tr>\n",
       "      <th>0</th>\n",
       "      <td>P7W1hJVPC9+lZf5WLhskxKvQQEJJdpKkKVu4v7RA0zQ=</td>\n",
       "      <td>13.0</td>\n",
       "      <td>29.0</td>\n",
       "      <td>female</td>\n",
       "      <td>9.0</td>\n",
       "      <td>2004-03-26</td>\n",
       "      <td>2.86</td>\n",
       "      <td>0.00</td>\n",
       "      <td>0.0</td>\n",
       "      <td>0.0</td>\n",
       "      <td>...</td>\n",
       "      <td>3.0</td>\n",
       "      <td>4.0</td>\n",
       "      <td>1.0</td>\n",
       "      <td>2017-03-01</td>\n",
       "      <td>0.0</td>\n",
       "      <td>2004.0</td>\n",
       "      <td>3.0</td>\n",
       "      <td>2017.0</td>\n",
       "      <td>3.0</td>\n",
       "      <td>4723.0</td>\n",
       "    </tr>\n",
       "    <tr>\n",
       "      <th>1</th>\n",
       "      <td>yKDUvz1yO1xZ/fwG0bMyIa5K+w7+kIAc+qV3vZKYz9E=</td>\n",
       "      <td>22.0</td>\n",
       "      <td>36.0</td>\n",
       "      <td>female</td>\n",
       "      <td>9.0</td>\n",
       "      <td>2004-03-26</td>\n",
       "      <td>2.00</td>\n",
       "      <td>0.50</td>\n",
       "      <td>0.0</td>\n",
       "      <td>1.0</td>\n",
       "      <td>...</td>\n",
       "      <td>5.0</td>\n",
       "      <td>4.5</td>\n",
       "      <td>2.0</td>\n",
       "      <td>2017-03-31</td>\n",
       "      <td>0.0</td>\n",
       "      <td>2004.0</td>\n",
       "      <td>3.0</td>\n",
       "      <td>2017.0</td>\n",
       "      <td>3.0</td>\n",
       "      <td>4753.0</td>\n",
       "    </tr>\n",
       "    <tr>\n",
       "      <th>2</th>\n",
       "      <td>STy1UqGkW8U4LNr6usNMy5hpCt1fZs96eLFHmhnb0tE=</td>\n",
       "      <td>10.0</td>\n",
       "      <td>32.0</td>\n",
       "      <td>female</td>\n",
       "      <td>9.0</td>\n",
       "      <td>2004-03-26</td>\n",
       "      <td>3.00</td>\n",
       "      <td>0.50</td>\n",
       "      <td>0.0</td>\n",
       "      <td>1.0</td>\n",
       "      <td>...</td>\n",
       "      <td>6.0</td>\n",
       "      <td>4.0</td>\n",
       "      <td>1.0</td>\n",
       "      <td>2017-03-31</td>\n",
       "      <td>0.0</td>\n",
       "      <td>2004.0</td>\n",
       "      <td>3.0</td>\n",
       "      <td>2017.0</td>\n",
       "      <td>3.0</td>\n",
       "      <td>4753.0</td>\n",
       "    </tr>\n",
       "    <tr>\n",
       "      <th>3</th>\n",
       "      <td>35OTDI3ToY0rj1BtWTbDJ9YV8yDygsv1sNM08SQ7pQc=</td>\n",
       "      <td>22.0</td>\n",
       "      <td>33.0</td>\n",
       "      <td>female</td>\n",
       "      <td>9.0</td>\n",
       "      <td>2004-03-26</td>\n",
       "      <td>4.17</td>\n",
       "      <td>0.86</td>\n",
       "      <td>0.0</td>\n",
       "      <td>3.0</td>\n",
       "      <td>...</td>\n",
       "      <td>6.0</td>\n",
       "      <td>4.0</td>\n",
       "      <td>1.0</td>\n",
       "      <td>2017-03-31</td>\n",
       "      <td>0.0</td>\n",
       "      <td>2004.0</td>\n",
       "      <td>3.0</td>\n",
       "      <td>2017.0</td>\n",
       "      <td>3.0</td>\n",
       "      <td>4753.0</td>\n",
       "    </tr>\n",
       "    <tr>\n",
       "      <th>4</th>\n",
       "      <td>9CqDxOPBQwLzxCOywM3l763Yq4yFQhPhFFk79rPs5x0=</td>\n",
       "      <td>5.0</td>\n",
       "      <td>0.0</td>\n",
       "      <td>male</td>\n",
       "      <td>9.0</td>\n",
       "      <td>2004-03-26</td>\n",
       "      <td>4.11</td>\n",
       "      <td>3.83</td>\n",
       "      <td>0.0</td>\n",
       "      <td>19.0</td>\n",
       "      <td>...</td>\n",
       "      <td>0.0</td>\n",
       "      <td>4.0</td>\n",
       "      <td>1.0</td>\n",
       "      <td>2017-03-17</td>\n",
       "      <td>0.0</td>\n",
       "      <td>2004.0</td>\n",
       "      <td>3.0</td>\n",
       "      <td>2017.0</td>\n",
       "      <td>3.0</td>\n",
       "      <td>4739.0</td>\n",
       "    </tr>\n",
       "  </tbody>\n",
       "</table>\n",
       "<p>5 rows × 54 columns</p>\n",
       "</div>"
      ],
      "text/plain": [
       "                                           msno  city    bd  gender  \\\n",
       "0  P7W1hJVPC9+lZf5WLhskxKvQQEJJdpKkKVu4v7RA0zQ=  13.0  29.0  female   \n",
       "1  yKDUvz1yO1xZ/fwG0bMyIa5K+w7+kIAc+qV3vZKYz9E=  22.0  36.0  female   \n",
       "2  STy1UqGkW8U4LNr6usNMy5hpCt1fZs96eLFHmhnb0tE=  10.0  32.0  female   \n",
       "3  35OTDI3ToY0rj1BtWTbDJ9YV8yDygsv1sNM08SQ7pQc=  22.0  33.0  female   \n",
       "4  9CqDxOPBQwLzxCOywM3l763Yq4yFQhPhFFk79rPs5x0=   5.0   0.0    male   \n",
       "\n",
       "   registered_via registration_init_time  num_25_mean  num_50_mean  \\\n",
       "0             9.0             2004-03-26         2.86         0.00   \n",
       "1             9.0             2004-03-26         2.00         0.50   \n",
       "2             9.0             2004-03-26         3.00         0.50   \n",
       "3             9.0             2004-03-26         4.17         0.86   \n",
       "4             9.0             2004-03-26         4.11         3.83   \n",
       "\n",
       "   num_50_min  num_50_max  ...  membership_expire_day_of_week_mean  \\\n",
       "0         0.0         0.0  ...                                 3.0   \n",
       "1         0.0         1.0  ...                                 5.0   \n",
       "2         0.0         1.0  ...                                 6.0   \n",
       "3         0.0         3.0  ...                                 6.0   \n",
       "4         0.0        19.0  ...                                 0.0   \n",
       "\n",
       "   membership_expire_month_mean  membership_expire_month_count  \\\n",
       "0                           4.0                            1.0   \n",
       "1                           4.5                            2.0   \n",
       "2                           4.0                            1.0   \n",
       "3                           4.0                            1.0   \n",
       "4                           4.0                            1.0   \n",
       "\n",
       "   last_transaction_date  is_churn  registration_year  registration_month  \\\n",
       "0             2017-03-01       0.0             2004.0                 3.0   \n",
       "1             2017-03-31       0.0             2004.0                 3.0   \n",
       "2             2017-03-31       0.0             2004.0                 3.0   \n",
       "3             2017-03-31       0.0             2004.0                 3.0   \n",
       "4             2017-03-17       0.0             2004.0                 3.0   \n",
       "\n",
       "   last_transaction_year  last_transaction_month  usage_period_days  \n",
       "0                 2017.0                     3.0             4723.0  \n",
       "1                 2017.0                     3.0             4753.0  \n",
       "2                 2017.0                     3.0             4753.0  \n",
       "3                 2017.0                     3.0             4753.0  \n",
       "4                 2017.0                     3.0             4739.0  \n",
       "\n",
       "[5 rows x 54 columns]"
      ]
     },
     "execution_count": 4,
     "metadata": {},
     "output_type": "execute_result"
    }
   ],
   "source": [
    "raw_train_df.head()"
   ]
  },
  {
   "cell_type": "code",
   "execution_count": 5,
   "id": "f82b1829-c881-4092-a267-205711c19a81",
   "metadata": {},
   "outputs": [
    {
     "data": {
      "text/html": [
       "<div>\n",
       "<style scoped>\n",
       "    .dataframe tbody tr th:only-of-type {\n",
       "        vertical-align: middle;\n",
       "    }\n",
       "\n",
       "    .dataframe tbody tr th {\n",
       "        vertical-align: top;\n",
       "    }\n",
       "\n",
       "    .dataframe thead th {\n",
       "        text-align: right;\n",
       "    }\n",
       "</style>\n",
       "<table border=\"1\" class=\"dataframe\">\n",
       "  <thead>\n",
       "    <tr style=\"text-align: right;\">\n",
       "      <th></th>\n",
       "      <th>city</th>\n",
       "      <th>bd</th>\n",
       "      <th>gender</th>\n",
       "      <th>registered_via</th>\n",
       "      <th>num_25_mean</th>\n",
       "      <th>num_50_mean</th>\n",
       "      <th>num_50_min</th>\n",
       "      <th>num_50_max</th>\n",
       "      <th>num_50_std</th>\n",
       "      <th>num_75_mean</th>\n",
       "      <th>...</th>\n",
       "      <th>transaction_day_of_year_max</th>\n",
       "      <th>membership_expire_day_of_week_mean</th>\n",
       "      <th>membership_expire_month_mean</th>\n",
       "      <th>membership_expire_month_count</th>\n",
       "      <th>registration_year</th>\n",
       "      <th>registration_month</th>\n",
       "      <th>last_transaction_year</th>\n",
       "      <th>last_transaction_month</th>\n",
       "      <th>usage_period_days</th>\n",
       "      <th>is_churn</th>\n",
       "    </tr>\n",
       "  </thead>\n",
       "  <tbody>\n",
       "    <tr>\n",
       "      <th>0</th>\n",
       "      <td>13.0</td>\n",
       "      <td>0.753517</td>\n",
       "      <td>-1</td>\n",
       "      <td>9.0</td>\n",
       "      <td>-0.370597</td>\n",
       "      <td>-0.832318</td>\n",
       "      <td>-0.099333</td>\n",
       "      <td>-0.669389</td>\n",
       "      <td>-0.776265</td>\n",
       "      <td>-0.802106</td>\n",
       "      <td>...</td>\n",
       "      <td>-0.654925</td>\n",
       "      <td>-0.149502</td>\n",
       "      <td>-0.180628</td>\n",
       "      <td>-0.166229</td>\n",
       "      <td>-2.975821</td>\n",
       "      <td>-1.001783</td>\n",
       "      <td>0.061397</td>\n",
       "      <td>-0.036571</td>\n",
       "      <td>3.109596</td>\n",
       "      <td>0.0</td>\n",
       "    </tr>\n",
       "    <tr>\n",
       "      <th>1</th>\n",
       "      <td>22.0</td>\n",
       "      <td>1.115001</td>\n",
       "      <td>-1</td>\n",
       "      <td>9.0</td>\n",
       "      <td>-0.498730</td>\n",
       "      <td>-0.510300</td>\n",
       "      <td>-0.099333</td>\n",
       "      <td>-0.569047</td>\n",
       "      <td>-0.481149</td>\n",
       "      <td>-0.973001</td>\n",
       "      <td>...</td>\n",
       "      <td>0.307792</td>\n",
       "      <td>0.842618</td>\n",
       "      <td>0.720690</td>\n",
       "      <td>0.488523</td>\n",
       "      <td>-2.975821</td>\n",
       "      <td>-1.001783</td>\n",
       "      <td>0.061397</td>\n",
       "      <td>-0.036571</td>\n",
       "      <td>3.137803</td>\n",
       "      <td>0.0</td>\n",
       "    </tr>\n",
       "    <tr>\n",
       "      <th>2</th>\n",
       "      <td>10.0</td>\n",
       "      <td>0.908439</td>\n",
       "      <td>-1</td>\n",
       "      <td>9.0</td>\n",
       "      <td>-0.349738</td>\n",
       "      <td>-0.510300</td>\n",
       "      <td>-0.099333</td>\n",
       "      <td>-0.569047</td>\n",
       "      <td>-0.535184</td>\n",
       "      <td>-0.973001</td>\n",
       "      <td>...</td>\n",
       "      <td>0.307792</td>\n",
       "      <td>1.338677</td>\n",
       "      <td>-0.180628</td>\n",
       "      <td>-0.166229</td>\n",
       "      <td>-2.975821</td>\n",
       "      <td>-1.001783</td>\n",
       "      <td>0.061397</td>\n",
       "      <td>-0.036571</td>\n",
       "      <td>3.137803</td>\n",
       "      <td>0.0</td>\n",
       "    </tr>\n",
       "    <tr>\n",
       "      <th>3</th>\n",
       "      <td>22.0</td>\n",
       "      <td>0.960080</td>\n",
       "      <td>-1</td>\n",
       "      <td>9.0</td>\n",
       "      <td>-0.175418</td>\n",
       "      <td>-0.278446</td>\n",
       "      <td>-0.099333</td>\n",
       "      <td>-0.368361</td>\n",
       "      <td>-0.335669</td>\n",
       "      <td>-0.301627</td>\n",
       "      <td>...</td>\n",
       "      <td>0.307792</td>\n",
       "      <td>1.338677</td>\n",
       "      <td>-0.180628</td>\n",
       "      <td>-0.166229</td>\n",
       "      <td>-2.975821</td>\n",
       "      <td>-1.001783</td>\n",
       "      <td>0.061397</td>\n",
       "      <td>-0.036571</td>\n",
       "      <td>3.137803</td>\n",
       "      <td>0.0</td>\n",
       "    </tr>\n",
       "    <tr>\n",
       "      <th>4</th>\n",
       "      <td>5.0</td>\n",
       "      <td>-0.744061</td>\n",
       "      <td>1</td>\n",
       "      <td>9.0</td>\n",
       "      <td>-0.184357</td>\n",
       "      <td>1.634343</td>\n",
       "      <td>-0.099333</td>\n",
       "      <td>1.237121</td>\n",
       "      <td>1.622076</td>\n",
       "      <td>2.420491</td>\n",
       "      <td>...</td>\n",
       "      <td>-0.141476</td>\n",
       "      <td>-1.637681</td>\n",
       "      <td>-0.180628</td>\n",
       "      <td>-0.166229</td>\n",
       "      <td>-2.975821</td>\n",
       "      <td>-1.001783</td>\n",
       "      <td>0.061397</td>\n",
       "      <td>-0.036571</td>\n",
       "      <td>3.124640</td>\n",
       "      <td>0.0</td>\n",
       "    </tr>\n",
       "  </tbody>\n",
       "</table>\n",
       "<p>5 rows × 51 columns</p>\n",
       "</div>"
      ],
      "text/plain": [
       "   city        bd  gender  registered_via  num_25_mean  num_50_mean  \\\n",
       "0  13.0  0.753517      -1             9.0    -0.370597    -0.832318   \n",
       "1  22.0  1.115001      -1             9.0    -0.498730    -0.510300   \n",
       "2  10.0  0.908439      -1             9.0    -0.349738    -0.510300   \n",
       "3  22.0  0.960080      -1             9.0    -0.175418    -0.278446   \n",
       "4   5.0 -0.744061       1             9.0    -0.184357     1.634343   \n",
       "\n",
       "   num_50_min  num_50_max  num_50_std  num_75_mean  ...  \\\n",
       "0   -0.099333   -0.669389   -0.776265    -0.802106  ...   \n",
       "1   -0.099333   -0.569047   -0.481149    -0.973001  ...   \n",
       "2   -0.099333   -0.569047   -0.535184    -0.973001  ...   \n",
       "3   -0.099333   -0.368361   -0.335669    -0.301627  ...   \n",
       "4   -0.099333    1.237121    1.622076     2.420491  ...   \n",
       "\n",
       "   transaction_day_of_year_max  membership_expire_day_of_week_mean  \\\n",
       "0                    -0.654925                           -0.149502   \n",
       "1                     0.307792                            0.842618   \n",
       "2                     0.307792                            1.338677   \n",
       "3                     0.307792                            1.338677   \n",
       "4                    -0.141476                           -1.637681   \n",
       "\n",
       "   membership_expire_month_mean  membership_expire_month_count  \\\n",
       "0                     -0.180628                      -0.166229   \n",
       "1                      0.720690                       0.488523   \n",
       "2                     -0.180628                      -0.166229   \n",
       "3                     -0.180628                      -0.166229   \n",
       "4                     -0.180628                      -0.166229   \n",
       "\n",
       "   registration_year  registration_month  last_transaction_year  \\\n",
       "0          -2.975821           -1.001783               0.061397   \n",
       "1          -2.975821           -1.001783               0.061397   \n",
       "2          -2.975821           -1.001783               0.061397   \n",
       "3          -2.975821           -1.001783               0.061397   \n",
       "4          -2.975821           -1.001783               0.061397   \n",
       "\n",
       "   last_transaction_month  usage_period_days  is_churn  \n",
       "0               -0.036571           3.109596       0.0  \n",
       "1               -0.036571           3.137803       0.0  \n",
       "2               -0.036571           3.137803       0.0  \n",
       "3               -0.036571           3.137803       0.0  \n",
       "4               -0.036571           3.124640       0.0  \n",
       "\n",
       "[5 rows x 51 columns]"
      ]
     },
     "execution_count": 5,
     "metadata": {},
     "output_type": "execute_result"
    }
   ],
   "source": [
    "train_df.head()"
   ]
  },
  {
   "cell_type": "markdown",
   "id": "43354f83-7606-4df9-8d1b-4057f59069af",
   "metadata": {},
   "source": [
    "## Evaluation of Churn Predicts\n",
    "\n",
    "To come up with bussiness metric for perfomance of this model, I assume the following:\n",
    "1) If we know that the customer is up to leave our service, we will give him a promo of **80% discount for 1 year**\n",
    "   which costs us about **20 USD**\n",
    "\n",
    "2) We really care about those who use our service already for a long time. We really want to be **accurate** in predictions about **long-living clients**. Let's assume that if we lose our client, **we lose about 1/4 of his LTV**\n",
    "\n",
    "\n",
    "### Bussiness metric\n",
    "\n",
    "In order to evaluate the model, I would like to state the following LOSS formula to estimate.\n",
    "We weight missclassification according to potential expenses of our company.\n",
    "\n",
    "\n",
    "$$\n",
    "\\[\n",
    "\\begin{aligned}\n",
    "&\\text{Let's define the following variables:} \\\\\n",
    "&\\hat{y} : \\text{Predicted churn labels (1 for churn, 0 for no churn)} \\\\\n",
    "&y : \\text{Actual churn labels (1 for churn, 0 for no churn)} \\\\\n",
    "&LTV : \\text{Lifetime value of a customer} \\\\\n",
    "&C_{\\text{promo}} : \\text{Cost of the promo offer (\\$20)} \\\\\n",
    "&\\alpha : \\text{Fraction of LTV lost if a long-term client churns (0.25)} \\\\\n",
    "&X_{\\text{long}} : \\text{Indicator function for long-term clients} \\\\\n",
    "\\\\\n",
    "&\\text{The business loss formula can be written as follows:} \\\\\n",
    "&\\text{Business Loss} = \\sum_{i=1}^{n} \\left( \\hat{y}_i (1 - y_i) C_{\\text{promo}} + y_i (1 - \\hat{y}_i) \\alpha \\cdot LTV_i \\cdot X_{\\text{long}, i} \\right) \\\\\n",
    "\\\\\n",
    "&\\text{This formula comprises two components:} \\\\\n",
    "&\\text{1. False Positives Cost: } \\hat{y}_i (1 - y_i) C_{\\text{promo}} \\\\\n",
    "&\\quad \\text{When we predict a customer will churn (} \\hat{y}_i = 1 \\text{) but they do not churn (} y_i = 0 \\text{), we incur the cost of the promo offer (} C_{\\text{promo}} \\text{).} \\\\\n",
    "&\\text{2. False Negatives Cost: } y_i (1 - \\hat{y}_i) \\alpha \\cdot LTV_i \\cdot X_{\\text{long}, i} \\\\\n",
    "&\\quad \\text{When we fail to predict a churn (} \\hat{y}_i = 0 \\text{) but the customer churns (} y_i = 1 \\text{), we lose a fraction (} \\alpha \\text{) of the customer's LTV if they are a long-term client (} X_{\\text{long}, i} = 1 \\text{).} \\\\\n",
    "\\\\\n",
    "&\\text{To further clarify:} \\\\\n",
    "&\\hat{y}_i (1 - y_i) \\text{ identifies false positives (cases where the model incorrectly predicts churn).} \\\\\n",
    "&y_i (1 - \\hat{y}_i) \\text{ identifies false negatives (cases where the model fails to predict churn).}\n",
    "\\end{aligned}\n",
    "\\]\n",
    "$$\n"
   ]
  },
  {
   "cell_type": "code",
   "execution_count": 6,
   "id": "414773bb-5cd0-4328-950d-41aebefbfd9f",
   "metadata": {},
   "outputs": [],
   "source": [
    "def calculate_business_loss(y_pred, y_test, LTV,  promo_cost=20, alpha=0.25):\n",
    "    \"\"\"\n",
    "    Calculate the business loss based on predictions and actual values.\n",
    "\n",
    "    Args:\n",
    "        y_pred (array-like): Predicted churn labels.\n",
    "        y_test (array-like): Actual churn labels.\n",
    "        LTV (array-like): Lifetime values of customers.\n",
    "        promo_cost (float): Cost of the promo offer.\n",
    "        alpha (float): Fraction of LTV lost if a long-term client churns.\n",
    "\n",
    "    Returns:\n",
    "        float: Total business loss.\n",
    "    \"\"\"\n",
    "    false_positives_cost = sum(y_pred[i] * (1 - y_test[i]) * promo_cost for i in range(len(y_pred)))\n",
    "    false_negatives_cost = sum(y_test[i] * (1 - y_pred[i]) * alpha * LTV[i]  for i in range(len(y_pred)))\n",
    "\n",
    "    total_loss = false_positives_cost + false_negatives_cost\n",
    "    return total_loss"
   ]
  },
  {
   "cell_type": "code",
   "execution_count": 7,
   "id": "5807323c-6506-4147-96b4-07fb5d80c5da",
   "metadata": {},
   "outputs": [],
   "source": [
    "X_train, y_train = train_df.drop(\"is_churn\", axis=1), train_df[\"is_churn\"]\n",
    "X_val, y_val = val_df.drop(\"is_churn\", axis=1), val_df[\"is_churn\"]\n",
    "X_test, y_test = test_df.drop(\"is_churn\", axis=1), test_df[\"is_churn\"]"
   ]
  },
  {
   "cell_type": "code",
   "execution_count": 8,
   "id": "b84d684f-4fec-4e46-a210-7f971c4c1d2a",
   "metadata": {},
   "outputs": [],
   "source": [
    "val_ltvs = raw_val_df[\"actual_amount_paid_mean\"] * raw_val_df[\"is_cancel_mean\"]\n",
    "train_ltvs = raw_train_df[\"actual_amount_paid_mean\"] * raw_train_df[\"actual_amount_paid_mean\"]\n",
    "\n",
    "\n"
   ]
  },
  {
   "cell_type": "markdown",
   "id": "9b645fad-bd87-40c1-b70a-d913bf44e026",
   "metadata": {},
   "source": [
    "## Random Predictor Baseline"
   ]
  },
  {
   "cell_type": "code",
   "execution_count": 9,
   "id": "8a72eb47-5ea6-4c22-8ce4-d2d90dbb1d55",
   "metadata": {},
   "outputs": [],
   "source": [
    "np.random.seed(2)\n",
    "\n",
    "train_prob_churn = train_df['is_churn'].mean()\n",
    "val_predicts = np.random.choice([0, 1], size=len(val_df), p=[1 - train_prob_churn, train_prob_churn])\n",
    "train_predicts = np.random.choice([0, 1], size=len(train_df), p=[1 - train_prob_churn, train_prob_churn])"
   ]
  },
  {
   "cell_type": "code",
   "execution_count": 10,
   "id": "f1fd69d2-9b66-44cf-ae68-957afd1b84ec",
   "metadata": {},
   "outputs": [
    {
     "data": {
      "text/plain": [
       "0.8430962343096234"
      ]
     },
     "execution_count": 10,
     "metadata": {},
     "output_type": "execute_result"
    }
   ],
   "source": [
    "np.mean(val_predicts == val_df[\"is_churn\"])"
   ]
  },
  {
   "cell_type": "code",
   "execution_count": 11,
   "id": "c61d2515-7d57-4469-a6a2-aa992a5aff51",
   "metadata": {},
   "outputs": [
    {
     "data": {
      "text/plain": [
       "9258.681450480002"
      ]
     },
     "execution_count": 11,
     "metadata": {},
     "output_type": "execute_result"
    }
   ],
   "source": [
    "calculate_business_loss(val_predicts, val_df[\"is_churn\"], val_ltvs)\n"
   ]
  },
  {
   "cell_type": "markdown",
   "id": "dd1a82da-7e38-473e-a702-17d710d5b219",
   "metadata": {},
   "source": [
    "## Logistic Regression Predictor Baseline"
   ]
  },
  {
   "cell_type": "code",
   "execution_count": 12,
   "id": "e5a02494-3089-4bbb-a70b-b710de884da8",
   "metadata": {},
   "outputs": [
    {
     "data": {
      "text/html": [
       "<style>#sk-container-id-1 {color: black;}#sk-container-id-1 pre{padding: 0;}#sk-container-id-1 div.sk-toggleable {background-color: white;}#sk-container-id-1 label.sk-toggleable__label {cursor: pointer;display: block;width: 100%;margin-bottom: 0;padding: 0.3em;box-sizing: border-box;text-align: center;}#sk-container-id-1 label.sk-toggleable__label-arrow:before {content: \"▸\";float: left;margin-right: 0.25em;color: #696969;}#sk-container-id-1 label.sk-toggleable__label-arrow:hover:before {color: black;}#sk-container-id-1 div.sk-estimator:hover label.sk-toggleable__label-arrow:before {color: black;}#sk-container-id-1 div.sk-toggleable__content {max-height: 0;max-width: 0;overflow: hidden;text-align: left;background-color: #f0f8ff;}#sk-container-id-1 div.sk-toggleable__content pre {margin: 0.2em;color: black;border-radius: 0.25em;background-color: #f0f8ff;}#sk-container-id-1 input.sk-toggleable__control:checked~div.sk-toggleable__content {max-height: 200px;max-width: 100%;overflow: auto;}#sk-container-id-1 input.sk-toggleable__control:checked~label.sk-toggleable__label-arrow:before {content: \"▾\";}#sk-container-id-1 div.sk-estimator input.sk-toggleable__control:checked~label.sk-toggleable__label {background-color: #d4ebff;}#sk-container-id-1 div.sk-label input.sk-toggleable__control:checked~label.sk-toggleable__label {background-color: #d4ebff;}#sk-container-id-1 input.sk-hidden--visually {border: 0;clip: rect(1px 1px 1px 1px);clip: rect(1px, 1px, 1px, 1px);height: 1px;margin: -1px;overflow: hidden;padding: 0;position: absolute;width: 1px;}#sk-container-id-1 div.sk-estimator {font-family: monospace;background-color: #f0f8ff;border: 1px dotted black;border-radius: 0.25em;box-sizing: border-box;margin-bottom: 0.5em;}#sk-container-id-1 div.sk-estimator:hover {background-color: #d4ebff;}#sk-container-id-1 div.sk-parallel-item::after {content: \"\";width: 100%;border-bottom: 1px solid gray;flex-grow: 1;}#sk-container-id-1 div.sk-label:hover label.sk-toggleable__label {background-color: #d4ebff;}#sk-container-id-1 div.sk-serial::before {content: \"\";position: absolute;border-left: 1px solid gray;box-sizing: border-box;top: 0;bottom: 0;left: 50%;z-index: 0;}#sk-container-id-1 div.sk-serial {display: flex;flex-direction: column;align-items: center;background-color: white;padding-right: 0.2em;padding-left: 0.2em;position: relative;}#sk-container-id-1 div.sk-item {position: relative;z-index: 1;}#sk-container-id-1 div.sk-parallel {display: flex;align-items: stretch;justify-content: center;background-color: white;position: relative;}#sk-container-id-1 div.sk-item::before, #sk-container-id-1 div.sk-parallel-item::before {content: \"\";position: absolute;border-left: 1px solid gray;box-sizing: border-box;top: 0;bottom: 0;left: 50%;z-index: -1;}#sk-container-id-1 div.sk-parallel-item {display: flex;flex-direction: column;z-index: 1;position: relative;background-color: white;}#sk-container-id-1 div.sk-parallel-item:first-child::after {align-self: flex-end;width: 50%;}#sk-container-id-1 div.sk-parallel-item:last-child::after {align-self: flex-start;width: 50%;}#sk-container-id-1 div.sk-parallel-item:only-child::after {width: 0;}#sk-container-id-1 div.sk-dashed-wrapped {border: 1px dashed gray;margin: 0 0.4em 0.5em 0.4em;box-sizing: border-box;padding-bottom: 0.4em;background-color: white;}#sk-container-id-1 div.sk-label label {font-family: monospace;font-weight: bold;display: inline-block;line-height: 1.2em;}#sk-container-id-1 div.sk-label-container {text-align: center;}#sk-container-id-1 div.sk-container {/* jupyter's `normalize.less` sets `[hidden] { display: none; }` but bootstrap.min.css set `[hidden] { display: none !important; }` so we also need the `!important` here to be able to override the default hidden behavior on the sphinx rendered scikit-learn.org. See: https://github.com/scikit-learn/scikit-learn/issues/21755 */display: inline-block !important;position: relative;}#sk-container-id-1 div.sk-text-repr-fallback {display: none;}</style><div id=\"sk-container-id-1\" class=\"sk-top-container\"><div class=\"sk-text-repr-fallback\"><pre>LogisticRegression(random_state=2)</pre><b>In a Jupyter environment, please rerun this cell to show the HTML representation or trust the notebook. <br />On GitHub, the HTML representation is unable to render, please try loading this page with nbviewer.org.</b></div><div class=\"sk-container\" hidden><div class=\"sk-item\"><div class=\"sk-estimator sk-toggleable\"><input class=\"sk-toggleable__control sk-hidden--visually\" id=\"sk-estimator-id-1\" type=\"checkbox\" checked><label for=\"sk-estimator-id-1\" class=\"sk-toggleable__label sk-toggleable__label-arrow\">LogisticRegression</label><div class=\"sk-toggleable__content\"><pre>LogisticRegression(random_state=2)</pre></div></div></div></div></div>"
      ],
      "text/plain": [
       "LogisticRegression(random_state=2)"
      ]
     },
     "execution_count": 12,
     "metadata": {},
     "output_type": "execute_result"
    }
   ],
   "source": [
    "from sklearn.linear_model import LogisticRegression\n",
    "\n",
    "\n",
    "logreg = LogisticRegression(random_state=2)\n",
    "logreg.fit(X_train, y_train)"
   ]
  },
  {
   "cell_type": "code",
   "execution_count": 13,
   "id": "3a443a10-38e3-4bff-9a01-33b263e941aa",
   "metadata": {},
   "outputs": [
    {
     "data": {
      "text/plain": [
       "725.7424151600006"
      ]
     },
     "execution_count": 13,
     "metadata": {},
     "output_type": "execute_result"
    }
   ],
   "source": [
    "t = 0.5\n",
    "logreg_val_probs = logreg.predict_proba(X_val)[:, 1]\n",
    "logreg_val_predicts = (logreg_val_probs > t)\n",
    "\n",
    "calculate_business_loss(logreg_val_predicts, val_df[\"is_churn\"], val_ltvs)"
   ]
  },
  {
   "cell_type": "markdown",
   "id": "ff52dab4-6de0-46be-b038-5e8c73a0082c",
   "metadata": {},
   "source": [
    "### Treshold tunning"
   ]
  },
  {
   "cell_type": "code",
   "execution_count": 14,
   "id": "8d76abb2-9b1c-4f34-8ab2-d5d01216d76e",
   "metadata": {},
   "outputs": [],
   "source": [
    "treshold_cands = np.linspace(0.2, 1, 200)\n",
    "\n",
    "logres_losses = []\n",
    "\n",
    "for t_cand in treshold_cands:\n",
    "\n",
    "    cand_predicts = (logreg_val_probs > t_cand)\n",
    "    loss = calculate_business_loss(cand_predicts, val_df[\"is_churn\"], val_ltvs)\n",
    "    logres_losses.append(loss)"
   ]
  },
  {
   "cell_type": "code",
   "execution_count": 15,
   "id": "e520e56e-5947-41b7-b944-379f8e7aeaca",
   "metadata": {},
   "outputs": [
    {
     "data": {
      "text/plain": [
       "<matplotlib.legend.Legend at 0x7141d738c0d0>"
      ]
     },
     "execution_count": 15,
     "metadata": {},
     "output_type": "execute_result"
    },
    {
     "data": {
      "image/png": "[encoded data removed]",
      "text/plain": [
       "<Figure size 720x360 with 1 Axes>"
      ]
     },
     "metadata": {
      "needs_background": "light"
     },
     "output_type": "display_data"
    }
   ],
   "source": [
    "\n",
    "best_t  = treshold_cands[np.argmin(logres_losses)]\n",
    "\n",
    "plt.figure(figsize=(10, 5))\n",
    "plt.title(\"Treshold for Logistic Regression vs Expenses Loss\", fontsize=12)\n",
    "plt.xlabel(\"Treshold\")\n",
    "plt.ylabel(\"Loss\")\n",
    "plt.plot(treshold_cands, logres_losses, color=\"blue\", linewidth=3)\n",
    "plt.axvline(x=best_t, linewidth=0.5, color=\"red\", label=f\"Min Loss = {np.round(np.min(logres_losses), 2)}\")\n",
    "plt.legend()"
   ]
  },
  {
   "cell_type": "markdown",
   "id": "75a500d3-b333-4383-86be-bbbb1af8161d",
   "metadata": {},
   "source": [
    "## Xgboost Tunning\n"
   ]
  },
  {
   "cell_type": "code",
   "execution_count": 16,
   "id": "6bc7bdfd-e0da-4f60-9b48-ec2abb7718f2",
   "metadata": {},
   "outputs": [
    {
     "name": "stderr",
     "output_type": "stream",
     "text": [
      "[I 2024-08-24 12:21:27,343] A new study created in memory with name: no-name-ed14db27-87f3-4275-aed2-134193cdfa23\n",
      "[I 2024-08-24 12:21:30,569] Trial 0 finished with value: 0.9789565358579354 and parameters: {'max_depth': 6, 'learning_rate': 0.837513235010798, 'n_estimators': 248, 'min_child_weight': 2, 'gamma': 0.06369131462760233, 'subsample': 0.8958011559767224, 'colsample_bytree': 0.9169029515456227, 'reg_alpha': 7.461564105400341e-05, 'reg_lambda': 1.24319948075713e-07}. Best is trial 0 with value: 0.9789565358579354.\n",
      "[I 2024-08-24 12:21:35,198] Trial 1 finished with value: 0.9642805109028216 and parameters: {'max_depth': 8, 'learning_rate': 0.010449042372944318, 'n_estimators': 466, 'min_child_weight': 2, 'gamma': 8.074720149349011e-05, 'subsample': 0.5403447713285084, 'colsample_bytree': 0.02862200807411363, 'reg_alpha': 0.0009423231740639774, 'reg_lambda': 0.000757890356606445}. Best is trial 0 with value: 0.9789565358579354.\n",
      "[I 2024-08-24 12:21:37,196] Trial 2 finished with value: 0.9500292476716027 and parameters: {'max_depth': 10, 'learning_rate': 0.9209291597569204, 'n_estimators': 168, 'min_child_weight': 10, 'gamma': 3.077658061035199e-07, 'subsample': 0.8800541059268535, 'colsample_bytree': 0.031136851277887012, 'reg_alpha': 0.9937477817790663, 'reg_lambda': 4.083698357713345e-07}. Best is trial 0 with value: 0.9789565358579354.\n",
      "[I 2024-08-24 12:21:39,684] Trial 3 finished with value: 0.9353448869488699 and parameters: {'max_depth': 2, 'learning_rate': 0.8630932272880953, 'n_estimators': 294, 'min_child_weight': 3, 'gamma': 0.00023384047963333218, 'subsample': 0.0943368488566157, 'colsample_bytree': 0.28001199747362643, 'reg_alpha': 0.00046569310126348934, 'reg_lambda': 9.689070294896942e-05}. Best is trial 0 with value: 0.9789565358579354.\n",
      "[I 2024-08-24 12:21:46,307] Trial 4 finished with value: 0.978804317492717 and parameters: {'max_depth': 8, 'learning_rate': 0.21235351987391837, 'n_estimators': 487, 'min_child_weight': 1, 'gamma': 0.12476142148750413, 'subsample': 0.29763329788536175, 'colsample_bytree': 0.22904515334412712, 'reg_alpha': 9.133422290827637e-06, 'reg_lambda': 0.00013798178323389066}. Best is trial 0 with value: 0.9789565358579354.\n",
      "[I 2024-08-24 12:21:55,816] Trial 5 finished with value: 0.9894364078785326 and parameters: {'max_depth': 7, 'learning_rate': 0.050671913539153006, 'n_estimators': 683, 'min_child_weight': 8, 'gamma': 2.0969728436960023e-08, 'subsample': 0.8564232025835642, 'colsample_bytree': 0.5632173888791652, 'reg_alpha': 0.39457295260493014, 'reg_lambda': 2.679225900952935e-05}. Best is trial 5 with value: 0.9894364078785326.\n",
      "[I 2024-08-24 12:22:02,384] Trial 6 finished with value: 0.9714311498212884 and parameters: {'max_depth': 10, 'learning_rate': 0.16508182428361068, 'n_estimators': 734, 'min_child_weight': 8, 'gamma': 9.500740813029582e-05, 'subsample': 0.049721024654742846, 'colsample_bytree': 0.028340874464845716, 'reg_alpha': 0.07964052632473428, 'reg_lambda': 5.515509529705058e-08}. Best is trial 5 with value: 0.9894364078785326.\n",
      "[I 2024-08-24 12:22:10,123] Trial 7 finished with value: 0.9833382502281464 and parameters: {'max_depth': 6, 'learning_rate': 0.42271864412501725, 'n_estimators': 578, 'min_child_weight': 1, 'gamma': 0.004811561154640349, 'subsample': 0.7215932773425956, 'colsample_bytree': 0.9340557517982522, 'reg_alpha': 0.0002975537154932476, 'reg_lambda': 1.9392700649070764e-07}. Best is trial 5 with value: 0.9894364078785326.\n",
      "[I 2024-08-24 12:22:13,609] Trial 8 finished with value: 0.9787811223132553 and parameters: {'max_depth': 9, 'learning_rate': 0.8119919685075417, 'n_estimators': 249, 'min_child_weight': 4, 'gamma': 2.1871559619976512e-08, 'subsample': 0.5831559314574853, 'colsample_bytree': 0.33090967091550205, 'reg_alpha': 0.8863693109536791, 'reg_lambda': 4.805975561518711e-07}. Best is trial 5 with value: 0.9894364078785326.\n",
      "[I 2024-08-24 12:22:16,065] Trial 9 finished with value: 0.9796875464356619 and parameters: {'max_depth': 10, 'learning_rate': 0.013018009833018648, 'n_estimators': 115, 'min_child_weight': 2, 'gamma': 1.3384331443852027e-05, 'subsample': 0.08700804157783315, 'colsample_bytree': 0.28848469753376466, 'reg_alpha': 0.00010247056289316608, 'reg_lambda': 0.00017237723912720307}. Best is trial 5 with value: 0.9894364078785326.\n",
      "[I 2024-08-24 12:22:21,997] Trial 10 finished with value: 0.973618745184282 and parameters: {'max_depth': 3, 'learning_rate': 0.4699771550398256, 'n_estimators': 673, 'min_child_weight': 7, 'gamma': 1.414542359471227e-08, 'subsample': 0.9780164058847167, 'colsample_bytree': 0.010308240670845795, 'reg_alpha': 4.094397692312804e-08, 'reg_lambda': 0.07457492294161773}. Best is trial 5 with value: 0.9894364078785326.\n",
      "[I 2024-08-24 12:22:29,873] Trial 11 finished with value: 0.9812064682657328 and parameters: {'max_depth': 5, 'learning_rate': 0.4442265337984382, 'n_estimators': 607, 'min_child_weight': 6, 'gamma': 0.01334950632811881, 'subsample': 0.7519121098925241, 'colsample_bytree': 0.9967237490000868, 'reg_alpha': 0.01318439771896295, 'reg_lambda': 1.112768419210617e-08}. Best is trial 5 with value: 0.9894364078785326.\n",
      "[I 2024-08-24 12:22:35,009] Trial 12 finished with value: 0.9842435870765158 and parameters: {'max_depth': 6, 'learning_rate': 0.3034297608704722, 'n_estimators': 578, 'min_child_weight': 9, 'gamma': 0.9470046821237407, 'subsample': 0.7144362031036218, 'colsample_bytree': 0.6556386794707378, 'reg_alpha': 0.02841099843666706, 'reg_lambda': 8.296717815078175e-06}. Best is trial 5 with value: 0.9894364078785326.\n",
      "[I 2024-08-24 12:22:42,775] Trial 13 finished with value: 0.9841471821118777 and parameters: {'max_depth': 4, 'learning_rate': 0.27828022697164184, 'n_estimators': 779, 'min_child_weight': 10, 'gamma': 0.7220178677415006, 'subsample': 0.7064260108087766, 'colsample_bytree': 0.4984745904359004, 'reg_alpha': 0.029447859540239592, 'reg_lambda': 5.721915757299548e-06}. Best is trial 5 with value: 0.9894364078785326.\n",
      "[I 2024-08-24 12:22:54,703] Trial 14 finished with value: 0.9865101910195513 and parameters: {'max_depth': 7, 'learning_rate': 0.2947548503562885, 'n_estimators': 566, 'min_child_weight': 8, 'gamma': 1.4668615108712818e-06, 'subsample': 0.9978759273152331, 'colsample_bytree': 0.11965988574586472, 'reg_alpha': 0.11506202959185508, 'reg_lambda': 5.1984008197251404e-06}. Best is trial 5 with value: 0.9894364078785326.\n",
      "[I 2024-08-24 12:23:00,857] Trial 15 finished with value: 0.9870400559003826 and parameters: {'max_depth': 7, 'learning_rate': 0.1328810906096738, 'n_estimators': 404, 'min_child_weight': 7, 'gamma': 4.886843505950639e-07, 'subsample': 0.9832077158109934, 'colsample_bytree': 0.13475084400873122, 'reg_alpha': 0.30440532960858185, 'reg_lambda': 5.533273458094837e-06}. Best is trial 5 with value: 0.9894364078785326.\n",
      "[I 2024-08-24 12:23:05,489] Trial 16 finished with value: 0.9763594006075688 and parameters: {'max_depth': 1, 'learning_rate': 0.11040615672809359, 'n_estimators': 380, 'min_child_weight': 5, 'gamma': 1.359979181246277e-07, 'subsample': 0.8464354473982083, 'colsample_bytree': 0.1682563175428145, 'reg_alpha': 0.0031300594680550953, 'reg_lambda': 0.006724741828313529}. Best is trial 5 with value: 0.9894364078785326.\n",
      "[I 2024-08-24 12:23:13,159] Trial 17 finished with value: 0.9857556228376838 and parameters: {'max_depth': 8, 'learning_rate': 0.13505139607714828, 'n_estimators': 366, 'min_child_weight': 6, 'gamma': 1.2507664376218065e-06, 'subsample': 0.9973516895314638, 'colsample_bytree': 0.08359060949932347, 'reg_alpha': 0.274296089521405, 'reg_lambda': 2.1811254117416425e-05}. Best is trial 5 with value: 0.9894364078785326.\n",
      "[I 2024-08-24 12:23:19,037] Trial 18 finished with value: 0.9807066846332662 and parameters: {'max_depth': 4, 'learning_rate': 0.6636610235888445, 'n_estimators': 486, 'min_child_weight': 7, 'gamma': 1.015916999249482e-08, 'subsample': 0.8141860032372424, 'colsample_bytree': 0.5708558759454391, 'reg_alpha': 0.1949066618733745, 'reg_lambda': 1.0683364561676447e-06}. Best is trial 5 with value: 0.9894364078785326.\n",
      "[I 2024-08-24 12:23:26,172] Trial 19 finished with value: 0.9880541201524793 and parameters: {'max_depth': 7, 'learning_rate': 0.11054987241687984, 'n_estimators': 674, 'min_child_weight': 8, 'gamma': 6.135134641692772e-08, 'subsample': 0.6162939734272317, 'colsample_bytree': 0.45770627524273455, 'reg_alpha': 0.007300565336040237, 'reg_lambda': 0.0015851673795589558}. Best is trial 5 with value: 0.9894364078785326.\n"
     ]
    },
    {
     "name": "stdout",
     "output_type": "stream",
     "text": [
      "Best trial for Gradient Boosting: {'max_depth': 7, 'learning_rate': 0.050671913539153006, 'n_estimators': 683, 'min_child_weight': 8, 'gamma': 2.0969728436960023e-08, 'subsample': 0.8564232025835642, 'colsample_bytree': 0.5632173888791652, 'reg_alpha': 0.39457295260493014, 'reg_lambda': 2.679225900952935e-05}\n"
     ]
    }
   ],
   "source": [
    "from xgboost import XGBClassifier\n",
    "from sklearn.metrics import roc_auc_score\n",
    "\n",
    "\n",
    "def xgb_objective(trial):\n",
    "\n",
    "    param = {\n",
    "        'max_depth': trial.suggest_int('max_depth', 1, 10),\n",
    "        'learning_rate': trial.suggest_float('learning_rate', 0.01, 1.0),\n",
    "        'n_estimators': trial.suggest_int('n_estimators', 50, 800),\n",
    "        'min_child_weight': trial.suggest_int('min_child_weight', 1, 10),\n",
    "        'gamma': trial.suggest_float('gamma', 1e-8, 1.0, log=True),\n",
    "        'subsample': trial.suggest_float('subsample', 0.01, 1.0),\n",
    "        'colsample_bytree': trial.suggest_float('colsample_bytree', 0.01, 1.0, log=True),\n",
    "        'reg_alpha': trial.suggest_float('reg_alpha', 1e-8, 1.0, log=True),\n",
    "        'reg_lambda': trial.suggest_float('reg_lambda', 1e-8, 1.0, log=True),\n",
    "        'eval_metric': 'mlogloss',\n",
    "        'use_label_encoder': False,\n",
    "        #'device' : 'cuda'\n",
    "    }\n",
    "\n",
    "\n",
    "    clf = XGBClassifier(**param)\n",
    "    clf.fit(X_train, y_train)\n",
    "    clf_probs = clf.predict_proba(X_val)[:, 1]\n",
    "    \n",
    "    auc = roc_auc_score(y_val, clf_probs)\n",
    "    return auc\n",
    "\n",
    "\n",
    "xgb_study = optuna.create_study(direction=\"maximize\")\n",
    "xgb_study.optimize(xgb_objective, n_trials=20, timeout=2400)\n",
    "\n",
    "xgb_trial = xgb_study.best_trial\n",
    "print(f'Best trial for Gradient Boosting: {xgb_trial.params}')\n",
    "\n",
    "xgb_study_df = xgb_study.trials_dataframe()\n",
    "xgb_study_df.to_csv(\"xgb_study.csv\", index=False)\n",
    "\n"
   ]
  },
  {
   "cell_type": "code",
   "execution_count": 21,
   "id": "470beb98-54b9-497e-bd59-9b7619d69a43",
   "metadata": {},
   "outputs": [
    {
     "data": {
      "text/html": [
       "<style>#sk-container-id-3 {color: black;}#sk-container-id-3 pre{padding: 0;}#sk-container-id-3 div.sk-toggleable {background-color: white;}#sk-container-id-3 label.sk-toggleable__label {cursor: pointer;display: block;width: 100%;margin-bottom: 0;padding: 0.3em;box-sizing: border-box;text-align: center;}#sk-container-id-3 label.sk-toggleable__label-arrow:before {content: \"▸\";float: left;margin-right: 0.25em;color: #696969;}#sk-container-id-3 label.sk-toggleable__label-arrow:hover:before {color: black;}#sk-container-id-3 div.sk-estimator:hover label.sk-toggleable__label-arrow:before {color: black;}#sk-container-id-3 div.sk-toggleable__content {max-height: 0;max-width: 0;overflow: hidden;text-align: left;background-color: #f0f8ff;}#sk-container-id-3 div.sk-toggleable__content pre {margin: 0.2em;color: black;border-radius: 0.25em;background-color: #f0f8ff;}#sk-container-id-3 input.sk-toggleable__control:checked~div.sk-toggleable__content {max-height: 200px;max-width: 100%;overflow: auto;}#sk-container-id-3 input.sk-toggleable__control:checked~label.sk-toggleable__label-arrow:before {content: \"▾\";}#sk-container-id-3 div.sk-estimator input.sk-toggleable__control:checked~label.sk-toggleable__label {background-color: #d4ebff;}#sk-container-id-3 div.sk-label input.sk-toggleable__control:checked~label.sk-toggleable__label {background-color: #d4ebff;}#sk-container-id-3 input.sk-hidden--visually {border: 0;clip: rect(1px 1px 1px 1px);clip: rect(1px, 1px, 1px, 1px);height: 1px;margin: -1px;overflow: hidden;padding: 0;position: absolute;width: 1px;}#sk-container-id-3 div.sk-estimator {font-family: monospace;background-color: #f0f8ff;border: 1px dotted black;border-radius: 0.25em;box-sizing: border-box;margin-bottom: 0.5em;}#sk-container-id-3 div.sk-estimator:hover {background-color: #d4ebff;}#sk-container-id-3 div.sk-parallel-item::after {content: \"\";width: 100%;border-bottom: 1px solid gray;flex-grow: 1;}#sk-container-id-3 div.sk-label:hover label.sk-toggleable__label {background-color: #d4ebff;}#sk-container-id-3 div.sk-serial::before {content: \"\";position: absolute;border-left: 1px solid gray;box-sizing: border-box;top: 0;bottom: 0;left: 50%;z-index: 0;}#sk-container-id-3 div.sk-serial {display: flex;flex-direction: column;align-items: center;background-color: white;padding-right: 0.2em;padding-left: 0.2em;position: relative;}#sk-container-id-3 div.sk-item {position: relative;z-index: 1;}#sk-container-id-3 div.sk-parallel {display: flex;align-items: stretch;justify-content: center;background-color: white;position: relative;}#sk-container-id-3 div.sk-item::before, #sk-container-id-3 div.sk-parallel-item::before {content: \"\";position: absolute;border-left: 1px solid gray;box-sizing: border-box;top: 0;bottom: 0;left: 50%;z-index: -1;}#sk-container-id-3 div.sk-parallel-item {display: flex;flex-direction: column;z-index: 1;position: relative;background-color: white;}#sk-container-id-3 div.sk-parallel-item:first-child::after {align-self: flex-end;width: 50%;}#sk-container-id-3 div.sk-parallel-item:last-child::after {align-self: flex-start;width: 50%;}#sk-container-id-3 div.sk-parallel-item:only-child::after {width: 0;}#sk-container-id-3 div.sk-dashed-wrapped {border: 1px dashed gray;margin: 0 0.4em 0.5em 0.4em;box-sizing: border-box;padding-bottom: 0.4em;background-color: white;}#sk-container-id-3 div.sk-label label {font-family: monospace;font-weight: bold;display: inline-block;line-height: 1.2em;}#sk-container-id-3 div.sk-label-container {text-align: center;}#sk-container-id-3 div.sk-container {/* jupyter's `normalize.less` sets `[hidden] { display: none; }` but bootstrap.min.css set `[hidden] { display: none !important; }` so we also need the `!important` here to be able to override the default hidden behavior on the sphinx rendered scikit-learn.org. See: https://github.com/scikit-learn/scikit-learn/issues/21755 */display: inline-block !important;position: relative;}#sk-container-id-3 div.sk-text-repr-fallback {display: none;}</style><div id=\"sk-container-id-3\" class=\"sk-top-container\"><div class=\"sk-text-repr-fallback\"><pre>XGBClassifier(base_score=None, booster=None, callbacks=None,\n",
       "              colsample_bylevel=None, colsample_bynode=None,\n",
       "              colsample_bytree=0.5632173888791652, device=None,\n",
       "              early_stopping_rounds=None, enable_categorical=False,\n",
       "              eval_metric=None, feature_types=None,\n",
       "              gamma=2.0969728436960023e-08, grow_policy=None,\n",
       "              importance_type=None, interaction_constraints=None,\n",
       "              learning_rate=0.050671913539153006, max_bin=None,\n",
       "              max_cat_threshold=None, max_cat_to_onehot=None,\n",
       "              max_delta_step=None, max_depth=7, max_leaves=None,\n",
       "              min_child_weight=8, missing=nan, monotone_constraints=None,\n",
       "              multi_strategy=None, n_estimators=683, n_jobs=None,\n",
       "              num_parallel_tree=None, random_state=None, ...)</pre><b>In a Jupyter environment, please rerun this cell to show the HTML representation or trust the notebook. <br />On GitHub, the HTML representation is unable to render, please try loading this page with nbviewer.org.</b></div><div class=\"sk-container\" hidden><div class=\"sk-item\"><div class=\"sk-estimator sk-toggleable\"><input class=\"sk-toggleable__control sk-hidden--visually\" id=\"sk-estimator-id-3\" type=\"checkbox\" checked><label for=\"sk-estimator-id-3\" class=\"sk-toggleable__label sk-toggleable__label-arrow\">XGBClassifier</label><div class=\"sk-toggleable__content\"><pre>XGBClassifier(base_score=None, booster=None, callbacks=None,\n",
       "              colsample_bylevel=None, colsample_bynode=None,\n",
       "              colsample_bytree=0.5632173888791652, device=None,\n",
       "              early_stopping_rounds=None, enable_categorical=False,\n",
       "              eval_metric=None, feature_types=None,\n",
       "              gamma=2.0969728436960023e-08, grow_policy=None,\n",
       "              importance_type=None, interaction_constraints=None,\n",
       "              learning_rate=0.050671913539153006, max_bin=None,\n",
       "              max_cat_threshold=None, max_cat_to_onehot=None,\n",
       "              max_delta_step=None, max_depth=7, max_leaves=None,\n",
       "              min_child_weight=8, missing=nan, monotone_constraints=None,\n",
       "              multi_strategy=None, n_estimators=683, n_jobs=None,\n",
       "              num_parallel_tree=None, random_state=None, ...)</pre></div></div></div></div></div>"
      ],
      "text/plain": [
       "XGBClassifier(base_score=None, booster=None, callbacks=None,\n",
       "              colsample_bylevel=None, colsample_bynode=None,\n",
       "              colsample_bytree=0.5632173888791652, device=None,\n",
       "              early_stopping_rounds=None, enable_categorical=False,\n",
       "              eval_metric=None, feature_types=None,\n",
       "              gamma=2.0969728436960023e-08, grow_policy=None,\n",
       "              importance_type=None, interaction_constraints=None,\n",
       "              learning_rate=0.050671913539153006, max_bin=None,\n",
       "              max_cat_threshold=None, max_cat_to_onehot=None,\n",
       "              max_delta_step=None, max_depth=7, max_leaves=None,\n",
       "              min_child_weight=8, missing=nan, monotone_constraints=None,\n",
       "              multi_strategy=None, n_estimators=683, n_jobs=None,\n",
       "              num_parallel_tree=None, random_state=None, ...)"
      ]
     },
     "execution_count": 21,
     "metadata": {},
     "output_type": "execute_result"
    }
   ],
   "source": [
    "xgb_model = XGBClassifier(**xgb_trial.params)\n",
    "xgb_model.fit(X_train, y_train)"
   ]
  },
  {
   "cell_type": "code",
   "execution_count": 22,
   "id": "070d4a2f-0509-48f7-b178-8380ea9f3022",
   "metadata": {},
   "outputs": [],
   "source": [
    "xgb_model_probs = xgb_model.predict_proba(X_val)[:, 1]\n"
   ]
  },
  {
   "cell_type": "code",
   "execution_count": 23,
   "id": "e6cdc85e-63fc-4cdb-87bf-6d72f1327486",
   "metadata": {},
   "outputs": [],
   "source": [
    "\n",
    "xgb_losses = []\n",
    "\n",
    "for t_cand in treshold_cands:\n",
    "\n",
    "    xgb_predicts = (xgb_model_probs > t_cand)\n",
    "    loss = calculate_business_loss(xgb_predicts, val_df[\"is_churn\"], val_ltvs)\n",
    "    xgb_losses.append(loss)\n",
    "\n"
   ]
  },
  {
   "cell_type": "code",
   "execution_count": 24,
   "id": "e9531971-1cdb-4b54-b31d-0313333bee2f",
   "metadata": {},
   "outputs": [
    {
     "data": {
      "text/plain": [
       "<matplotlib.legend.Legend at 0x7141d4f9f310>"
      ]
     },
     "execution_count": 24,
     "metadata": {},
     "output_type": "execute_result"
    },
    {
     "data": {
      "image/png": "[encoded data removed]",
      "text/plain": [
       "<Figure size 720x360 with 1 Axes>"
      ]
     },
     "metadata": {
      "needs_background": "light"
     },
     "output_type": "display_data"
    }
   ],
   "source": [
    "\n",
    "best_t  = treshold_cands[np.argmin(xgb_losses)]\n",
    "\n",
    "plt.figure(figsize=(10, 5))\n",
    "plt.title(\"Treshold for XGBoost vs Expenses Loss\", fontsize=14)\n",
    "plt.xlabel(\"Treshold\")\n",
    "plt.ylabel(\"Loss\")\n",
    "plt.plot(treshold_cands, xgb_losses, color=\"blue\", linewidth=3)\n",
    "plt.axvline(x=best_t, linewidth=0.5, color=\"red\", label=f\"Min Loss = {np.round(np.min(xgb_losses), 2)}\")\n",
    "plt.legend()"
   ]
  },
  {
   "cell_type": "code",
   "execution_count": 34,
   "id": "26a37c39-ab46-4cbe-b32d-7b2a3101d442",
   "metadata": {},
   "outputs": [],
   "source": [
    "xgb_model.save_model(f\"artifacts/xgboost_t_{np.round(best_t, 3)}_stage1\")\n",
    "\n",
    "with open(\"artifacts/inference_schema_xgb_stage1.json\", \"w\") as f:\n",
    "    inference_data_schema = X_train.dtypes.apply(lambda x: x.name).to_dict() #save schema of input data\n",
    "    json.dump(inference_data_schema, f)\n"
   ]
  },
  {
   "cell_type": "markdown",
   "id": "987d24a4-b1bd-42a8-bfc0-3ab5f8b06e88",
   "metadata": {},
   "source": [
    "## Model Calibration\n",
    "\n",
    "We need model calibration to make our classifier predict scores that will behave **like actual probabilities**. Usually, trained classifier predict values near 0 or near 1. Sometimes, we want our predictions to be probabilities. 0.4 - should mean 4 out of 10 "
   ]
  },
  {
   "cell_type": "code",
   "execution_count": 75,
   "id": "0ff7b4f9-f084-48d1-9ff3-48a0a3beb9e9",
   "metadata": {},
   "outputs": [
    {
     "data": {
      "text/plain": [
       "<matplotlib.legend.Legend at 0x7141ac8a9ab0>"
      ]
     },
     "execution_count": 75,
     "metadata": {},
     "output_type": "execute_result"
    },
    {
     "data": {
      "image/png": "[encoded data removed]",
      "text/plain": [
       "<Figure size 864x504 with 1 Axes>"
      ]
     },
     "metadata": {
      "needs_background": "light"
     },
     "output_type": "display_data"
    }
   ],
   "source": [
    "from sklearn.calibration import calibration_curve, CalibratedClassifierCV\n",
    "\n",
    "\n",
    "xgb_val_predicts = xgb_model.predict_proba(X_val)[:, 1]\n",
    "\n",
    "fraction_of_positives, mean_predicted_value = calibration_curve(y_val, xgb_val_predicts,  n_bins=20)\n",
    "\n",
    "#plot calibration curve\n",
    "\n",
    "fig, ax = plt.subplots(1, figsize=(12, 7))\n",
    "plt.plot(mean_predicted_value, fraction_of_positives, 's-', label=\"XGB(uncolibr)\", color=\"purple\")\n",
    "plt.plot([0, 1], [0, 1], '--', color='gray', label=\"Perfectly calibrated\")\n",
    "plt.title(\"Calibration Curve for Xgb (Uncolibrated)\", fontsize=13, )\n",
    "plt.xlabel(\"Mean prediction\", fontsize=12)\n",
    "plt.ylabel(\"Fraction of Positives\", fontsize=12)\n",
    "plt.legend()"
   ]
  },
  {
   "cell_type": "markdown",
   "id": "68eff903-d858-418b-a296-cf6ad1b61edb",
   "metadata": {},
   "source": [
    "### Calibration Method: Platt Scaling\n",
    "\n",
    "Platt Scaling is a post-processing technique used to convert the output of a binary classification model (e.g., SVM, neural network) into calibrated probabilities. It involves training a **logistic regression model** on the predicted scores (logits) of the original classifier."
   ]
  },
  {
   "cell_type": "code",
   "execution_count": 83,
   "id": "f262900d-0737-4853-9856-c21708bd1bfe",
   "metadata": {},
   "outputs": [
    {
     "data": {
      "text/html": [
       "<style>#sk-container-id-8 {color: black;}#sk-container-id-8 pre{padding: 0;}#sk-container-id-8 div.sk-toggleable {background-color: white;}#sk-container-id-8 label.sk-toggleable__label {cursor: pointer;display: block;width: 100%;margin-bottom: 0;padding: 0.3em;box-sizing: border-box;text-align: center;}#sk-container-id-8 label.sk-toggleable__label-arrow:before {content: \"▸\";float: left;margin-right: 0.25em;color: #696969;}#sk-container-id-8 label.sk-toggleable__label-arrow:hover:before {color: black;}#sk-container-id-8 div.sk-estimator:hover label.sk-toggleable__label-arrow:before {color: black;}#sk-container-id-8 div.sk-toggleable__content {max-height: 0;max-width: 0;overflow: hidden;text-align: left;background-color: #f0f8ff;}#sk-container-id-8 div.sk-toggleable__content pre {margin: 0.2em;color: black;border-radius: 0.25em;background-color: #f0f8ff;}#sk-container-id-8 input.sk-toggleable__control:checked~div.sk-toggleable__content {max-height: 200px;max-width: 100%;overflow: auto;}#sk-container-id-8 input.sk-toggleable__control:checked~label.sk-toggleable__label-arrow:before {content: \"▾\";}#sk-container-id-8 div.sk-estimator input.sk-toggleable__control:checked~label.sk-toggleable__label {background-color: #d4ebff;}#sk-container-id-8 div.sk-label input.sk-toggleable__control:checked~label.sk-toggleable__label {background-color: #d4ebff;}#sk-container-id-8 input.sk-hidden--visually {border: 0;clip: rect(1px 1px 1px 1px);clip: rect(1px, 1px, 1px, 1px);height: 1px;margin: -1px;overflow: hidden;padding: 0;position: absolute;width: 1px;}#sk-container-id-8 div.sk-estimator {font-family: monospace;background-color: #f0f8ff;border: 1px dotted black;border-radius: 0.25em;box-sizing: border-box;margin-bottom: 0.5em;}#sk-container-id-8 div.sk-estimator:hover {background-color: #d4ebff;}#sk-container-id-8 div.sk-parallel-item::after {content: \"\";width: 100%;border-bottom: 1px solid gray;flex-grow: 1;}#sk-container-id-8 div.sk-label:hover label.sk-toggleable__label {background-color: #d4ebff;}#sk-container-id-8 div.sk-serial::before {content: \"\";position: absolute;border-left: 1px solid gray;box-sizing: border-box;top: 0;bottom: 0;left: 50%;z-index: 0;}#sk-container-id-8 div.sk-serial {display: flex;flex-direction: column;align-items: center;background-color: white;padding-right: 0.2em;padding-left: 0.2em;position: relative;}#sk-container-id-8 div.sk-item {position: relative;z-index: 1;}#sk-container-id-8 div.sk-parallel {display: flex;align-items: stretch;justify-content: center;background-color: white;position: relative;}#sk-container-id-8 div.sk-item::before, #sk-container-id-8 div.sk-parallel-item::before {content: \"\";position: absolute;border-left: 1px solid gray;box-sizing: border-box;top: 0;bottom: 0;left: 50%;z-index: -1;}#sk-container-id-8 div.sk-parallel-item {display: flex;flex-direction: column;z-index: 1;position: relative;background-color: white;}#sk-container-id-8 div.sk-parallel-item:first-child::after {align-self: flex-end;width: 50%;}#sk-container-id-8 div.sk-parallel-item:last-child::after {align-self: flex-start;width: 50%;}#sk-container-id-8 div.sk-parallel-item:only-child::after {width: 0;}#sk-container-id-8 div.sk-dashed-wrapped {border: 1px dashed gray;margin: 0 0.4em 0.5em 0.4em;box-sizing: border-box;padding-bottom: 0.4em;background-color: white;}#sk-container-id-8 div.sk-label label {font-family: monospace;font-weight: bold;display: inline-block;line-height: 1.2em;}#sk-container-id-8 div.sk-label-container {text-align: center;}#sk-container-id-8 div.sk-container {/* jupyter's `normalize.less` sets `[hidden] { display: none; }` but bootstrap.min.css set `[hidden] { display: none !important; }` so we also need the `!important` here to be able to override the default hidden behavior on the sphinx rendered scikit-learn.org. See: https://github.com/scikit-learn/scikit-learn/issues/21755 */display: inline-block !important;position: relative;}#sk-container-id-8 div.sk-text-repr-fallback {display: none;}</style><div id=\"sk-container-id-8\" class=\"sk-top-container\"><div class=\"sk-text-repr-fallback\"><pre>CalibratedClassifierCV(cv=4,\n",
       "                       estimator=XGBClassifier(base_score=None, booster=None,\n",
       "                                               callbacks=None,\n",
       "                                               colsample_bylevel=None,\n",
       "                                               colsample_bynode=None,\n",
       "                                               colsample_bytree=0.5632173888791652,\n",
       "                                               device=None,\n",
       "                                               early_stopping_rounds=None,\n",
       "                                               enable_categorical=False,\n",
       "                                               eval_metric=None,\n",
       "                                               feature_types=None,\n",
       "                                               gamma=2.0969728436960023e-08,\n",
       "                                               grow_policy=None,\n",
       "                                               importance_type=None,\n",
       "                                               interaction_constraints=None,\n",
       "                                               learning_rate=0.050671913539153006,\n",
       "                                               max_bin=None,\n",
       "                                               max_cat_threshold=None,\n",
       "                                               max_cat_to_onehot=None,\n",
       "                                               max_delta_step=None, max_depth=7,\n",
       "                                               max_leaves=None,\n",
       "                                               min_child_weight=8, missing=nan,\n",
       "                                               monotone_constraints=None,\n",
       "                                               multi_strategy=None,\n",
       "                                               n_estimators=683, n_jobs=None,\n",
       "                                               num_parallel_tree=None,\n",
       "                                               random_state=None, ...))</pre><b>In a Jupyter environment, please rerun this cell to show the HTML representation or trust the notebook. <br />On GitHub, the HTML representation is unable to render, please try loading this page with nbviewer.org.</b></div><div class=\"sk-container\" hidden><div class=\"sk-item sk-dashed-wrapped\"><div class=\"sk-label-container\"><div class=\"sk-label sk-toggleable\"><input class=\"sk-toggleable__control sk-hidden--visually\" id=\"sk-estimator-id-16\" type=\"checkbox\" ><label for=\"sk-estimator-id-16\" class=\"sk-toggleable__label sk-toggleable__label-arrow\">CalibratedClassifierCV</label><div class=\"sk-toggleable__content\"><pre>CalibratedClassifierCV(cv=4,\n",
       "                       estimator=XGBClassifier(base_score=None, booster=None,\n",
       "                                               callbacks=None,\n",
       "                                               colsample_bylevel=None,\n",
       "                                               colsample_bynode=None,\n",
       "                                               colsample_bytree=0.5632173888791652,\n",
       "                                               device=None,\n",
       "                                               early_stopping_rounds=None,\n",
       "                                               enable_categorical=False,\n",
       "                                               eval_metric=None,\n",
       "                                               feature_types=None,\n",
       "                                               gamma=2.0969728436960023e-08,\n",
       "                                               grow_policy=None,\n",
       "                                               importance_type=None,\n",
       "                                               interaction_constraints=None,\n",
       "                                               learning_rate=0.050671913539153006,\n",
       "                                               max_bin=None,\n",
       "                                               max_cat_threshold=None,\n",
       "                                               max_cat_to_onehot=None,\n",
       "                                               max_delta_step=None, max_depth=7,\n",
       "                                               max_leaves=None,\n",
       "                                               min_child_weight=8, missing=nan,\n",
       "                                               monotone_constraints=None,\n",
       "                                               multi_strategy=None,\n",
       "                                               n_estimators=683, n_jobs=None,\n",
       "                                               num_parallel_tree=None,\n",
       "                                               random_state=None, ...))</pre></div></div></div><div class=\"sk-parallel\"><div class=\"sk-parallel-item\"><div class=\"sk-item\"><div class=\"sk-label-container\"><div class=\"sk-label sk-toggleable\"><input class=\"sk-toggleable__control sk-hidden--visually\" id=\"sk-estimator-id-17\" type=\"checkbox\" ><label for=\"sk-estimator-id-17\" class=\"sk-toggleable__label sk-toggleable__label-arrow\">estimator: XGBClassifier</label><div class=\"sk-toggleable__content\"><pre>XGBClassifier(base_score=None, booster=None, callbacks=None,\n",
       "              colsample_bylevel=None, colsample_bynode=None,\n",
       "              colsample_bytree=0.5632173888791652, device=None,\n",
       "              early_stopping_rounds=None, enable_categorical=False,\n",
       "              eval_metric=None, feature_types=None,\n",
       "              gamma=2.0969728436960023e-08, grow_policy=None,\n",
       "              importance_type=None, interaction_constraints=None,\n",
       "              learning_rate=0.050671913539153006, max_bin=None,\n",
       "              max_cat_threshold=None, max_cat_to_onehot=None,\n",
       "              max_delta_step=None, max_depth=7, max_leaves=None,\n",
       "              min_child_weight=8, missing=nan, monotone_constraints=None,\n",
       "              multi_strategy=None, n_estimators=683, n_jobs=None,\n",
       "              num_parallel_tree=None, random_state=None, ...)</pre></div></div></div><div class=\"sk-serial\"><div class=\"sk-item\"><div class=\"sk-estimator sk-toggleable\"><input class=\"sk-toggleable__control sk-hidden--visually\" id=\"sk-estimator-id-18\" type=\"checkbox\" ><label for=\"sk-estimator-id-18\" class=\"sk-toggleable__label sk-toggleable__label-arrow\">XGBClassifier</label><div class=\"sk-toggleable__content\"><pre>XGBClassifier(base_score=None, booster=None, callbacks=None,\n",
       "              colsample_bylevel=None, colsample_bynode=None,\n",
       "              colsample_bytree=0.5632173888791652, device=None,\n",
       "              early_stopping_rounds=None, enable_categorical=False,\n",
       "              eval_metric=None, feature_types=None,\n",
       "              gamma=2.0969728436960023e-08, grow_policy=None,\n",
       "              importance_type=None, interaction_constraints=None,\n",
       "              learning_rate=0.050671913539153006, max_bin=None,\n",
       "              max_cat_threshold=None, max_cat_to_onehot=None,\n",
       "              max_delta_step=None, max_depth=7, max_leaves=None,\n",
       "              min_child_weight=8, missing=nan, monotone_constraints=None,\n",
       "              multi_strategy=None, n_estimators=683, n_jobs=None,\n",
       "              num_parallel_tree=None, random_state=None, ...)</pre></div></div></div></div></div></div></div></div></div></div>"
      ],
      "text/plain": [
       "CalibratedClassifierCV(cv=4,\n",
       "                       estimator=XGBClassifier(base_score=None, booster=None,\n",
       "                                               callbacks=None,\n",
       "                                               colsample_bylevel=None,\n",
       "                                               colsample_bynode=None,\n",
       "                                               colsample_bytree=0.5632173888791652,\n",
       "                                               device=None,\n",
       "                                               early_stopping_rounds=None,\n",
       "                                               enable_categorical=False,\n",
       "                                               eval_metric=None,\n",
       "                                               feature_types=None,\n",
       "                                               gamma=2.0969728436960023e-08,\n",
       "                                               grow_policy=None,\n",
       "                                               importance_type=None,\n",
       "                                               interaction_constraints=None,\n",
       "                                               learning_rate=0.050671913539153006,\n",
       "                                               max_bin=None,\n",
       "                                               max_cat_threshold=None,\n",
       "                                               max_cat_to_onehot=None,\n",
       "                                               max_delta_step=None, max_depth=7,\n",
       "                                               max_leaves=None,\n",
       "                                               min_child_weight=8, missing=nan,\n",
       "                                               monotone_constraints=None,\n",
       "                                               multi_strategy=None,\n",
       "                                               n_estimators=683, n_jobs=None,\n",
       "                                               num_parallel_tree=None,\n",
       "                                               random_state=None, ...))"
      ]
     },
     "execution_count": 83,
     "metadata": {},
     "output_type": "execute_result"
    }
   ],
   "source": [
    "\n",
    "calibr_xgb_classifier_platt = CalibratedClassifierCV(xgb_model,\n",
    "                                                     cv=4,\n",
    "                                               #cv=\"prefit\",\n",
    "                                               method=\"sigmoid\")\n",
    "\n",
    "calibr_xgb_classifier_platt.fit(X_train, y_train)"
   ]
  },
  {
   "cell_type": "markdown",
   "id": "85ca6b4b-1305-4d50-b45e-62e27672732b",
   "metadata": {},
   "source": [
    "### Calibration Method: Isotonic Regression\n",
    "\n",
    "Isotonic Calibration uses isotonic regression, a non-parametric technique, to map predicted scores to calibrated probabilities. Isotonic regression fits a piecewise constant, non-decreasing function that best matches the predicted scores to the actual outcomes.\n",
    "\n"
   ]
  },
  {
   "cell_type": "code",
   "execution_count": 84,
   "id": "9c247b6e-44f6-4f7d-9b6a-7ae345f8d327",
   "metadata": {},
   "outputs": [
    {
     "data": {
      "text/html": [
       "<style>#sk-container-id-9 {color: black;}#sk-container-id-9 pre{padding: 0;}#sk-container-id-9 div.sk-toggleable {background-color: white;}#sk-container-id-9 label.sk-toggleable__label {cursor: pointer;display: block;width: 100%;margin-bottom: 0;padding: 0.3em;box-sizing: border-box;text-align: center;}#sk-container-id-9 label.sk-toggleable__label-arrow:before {content: \"▸\";float: left;margin-right: 0.25em;color: #696969;}#sk-container-id-9 label.sk-toggleable__label-arrow:hover:before {color: black;}#sk-container-id-9 div.sk-estimator:hover label.sk-toggleable__label-arrow:before {color: black;}#sk-container-id-9 div.sk-toggleable__content {max-height: 0;max-width: 0;overflow: hidden;text-align: left;background-color: #f0f8ff;}#sk-container-id-9 div.sk-toggleable__content pre {margin: 0.2em;color: black;border-radius: 0.25em;background-color: #f0f8ff;}#sk-container-id-9 input.sk-toggleable__control:checked~div.sk-toggleable__content {max-height: 200px;max-width: 100%;overflow: auto;}#sk-container-id-9 input.sk-toggleable__control:checked~label.sk-toggleable__label-arrow:before {content: \"▾\";}#sk-container-id-9 div.sk-estimator input.sk-toggleable__control:checked~label.sk-toggleable__label {background-color: #d4ebff;}#sk-container-id-9 div.sk-label input.sk-toggleable__control:checked~label.sk-toggleable__label {background-color: #d4ebff;}#sk-container-id-9 input.sk-hidden--visually {border: 0;clip: rect(1px 1px 1px 1px);clip: rect(1px, 1px, 1px, 1px);height: 1px;margin: -1px;overflow: hidden;padding: 0;position: absolute;width: 1px;}#sk-container-id-9 div.sk-estimator {font-family: monospace;background-color: #f0f8ff;border: 1px dotted black;border-radius: 0.25em;box-sizing: border-box;margin-bottom: 0.5em;}#sk-container-id-9 div.sk-estimator:hover {background-color: #d4ebff;}#sk-container-id-9 div.sk-parallel-item::after {content: \"\";width: 100%;border-bottom: 1px solid gray;flex-grow: 1;}#sk-container-id-9 div.sk-label:hover label.sk-toggleable__label {background-color: #d4ebff;}#sk-container-id-9 div.sk-serial::before {content: \"\";position: absolute;border-left: 1px solid gray;box-sizing: border-box;top: 0;bottom: 0;left: 50%;z-index: 0;}#sk-container-id-9 div.sk-serial {display: flex;flex-direction: column;align-items: center;background-color: white;padding-right: 0.2em;padding-left: 0.2em;position: relative;}#sk-container-id-9 div.sk-item {position: relative;z-index: 1;}#sk-container-id-9 div.sk-parallel {display: flex;align-items: stretch;justify-content: center;background-color: white;position: relative;}#sk-container-id-9 div.sk-item::before, #sk-container-id-9 div.sk-parallel-item::before {content: \"\";position: absolute;border-left: 1px solid gray;box-sizing: border-box;top: 0;bottom: 0;left: 50%;z-index: -1;}#sk-container-id-9 div.sk-parallel-item {display: flex;flex-direction: column;z-index: 1;position: relative;background-color: white;}#sk-container-id-9 div.sk-parallel-item:first-child::after {align-self: flex-end;width: 50%;}#sk-container-id-9 div.sk-parallel-item:last-child::after {align-self: flex-start;width: 50%;}#sk-container-id-9 div.sk-parallel-item:only-child::after {width: 0;}#sk-container-id-9 div.sk-dashed-wrapped {border: 1px dashed gray;margin: 0 0.4em 0.5em 0.4em;box-sizing: border-box;padding-bottom: 0.4em;background-color: white;}#sk-container-id-9 div.sk-label label {font-family: monospace;font-weight: bold;display: inline-block;line-height: 1.2em;}#sk-container-id-9 div.sk-label-container {text-align: center;}#sk-container-id-9 div.sk-container {/* jupyter's `normalize.less` sets `[hidden] { display: none; }` but bootstrap.min.css set `[hidden] { display: none !important; }` so we also need the `!important` here to be able to override the default hidden behavior on the sphinx rendered scikit-learn.org. See: https://github.com/scikit-learn/scikit-learn/issues/21755 */display: inline-block !important;position: relative;}#sk-container-id-9 div.sk-text-repr-fallback {display: none;}</style><div id=\"sk-container-id-9\" class=\"sk-top-container\"><div class=\"sk-text-repr-fallback\"><pre>CalibratedClassifierCV(cv=4,\n",
       "                       estimator=XGBClassifier(base_score=None, booster=None,\n",
       "                                               callbacks=None,\n",
       "                                               colsample_bylevel=None,\n",
       "                                               colsample_bynode=None,\n",
       "                                               colsample_bytree=0.5632173888791652,\n",
       "                                               device=None,\n",
       "                                               early_stopping_rounds=None,\n",
       "                                               enable_categorical=False,\n",
       "                                               eval_metric=None,\n",
       "                                               feature_types=None,\n",
       "                                               gamma=2.0969728436960023e-08,\n",
       "                                               grow_policy=None,\n",
       "                                               importance_type=None,\n",
       "                                               interaction_constraints=None,\n",
       "                                               learning_rate=0.050671913539153006,\n",
       "                                               max_bin=None,\n",
       "                                               max_cat_threshold=None,\n",
       "                                               max_cat_to_onehot=None,\n",
       "                                               max_delta_step=None, max_depth=7,\n",
       "                                               max_leaves=None,\n",
       "                                               min_child_weight=8, missing=nan,\n",
       "                                               monotone_constraints=None,\n",
       "                                               multi_strategy=None,\n",
       "                                               n_estimators=683, n_jobs=None,\n",
       "                                               num_parallel_tree=None,\n",
       "                                               random_state=None, ...),\n",
       "                       method=&#x27;isotonic&#x27;)</pre><b>In a Jupyter environment, please rerun this cell to show the HTML representation or trust the notebook. <br />On GitHub, the HTML representation is unable to render, please try loading this page with nbviewer.org.</b></div><div class=\"sk-container\" hidden><div class=\"sk-item sk-dashed-wrapped\"><div class=\"sk-label-container\"><div class=\"sk-label sk-toggleable\"><input class=\"sk-toggleable__control sk-hidden--visually\" id=\"sk-estimator-id-19\" type=\"checkbox\" ><label for=\"sk-estimator-id-19\" class=\"sk-toggleable__label sk-toggleable__label-arrow\">CalibratedClassifierCV</label><div class=\"sk-toggleable__content\"><pre>CalibratedClassifierCV(cv=4,\n",
       "                       estimator=XGBClassifier(base_score=None, booster=None,\n",
       "                                               callbacks=None,\n",
       "                                               colsample_bylevel=None,\n",
       "                                               colsample_bynode=None,\n",
       "                                               colsample_bytree=0.5632173888791652,\n",
       "                                               device=None,\n",
       "                                               early_stopping_rounds=None,\n",
       "                                               enable_categorical=False,\n",
       "                                               eval_metric=None,\n",
       "                                               feature_types=None,\n",
       "                                               gamma=2.0969728436960023e-08,\n",
       "                                               grow_policy=None,\n",
       "                                               importance_type=None,\n",
       "                                               interaction_constraints=None,\n",
       "                                               learning_rate=0.050671913539153006,\n",
       "                                               max_bin=None,\n",
       "                                               max_cat_threshold=None,\n",
       "                                               max_cat_to_onehot=None,\n",
       "                                               max_delta_step=None, max_depth=7,\n",
       "                                               max_leaves=None,\n",
       "                                               min_child_weight=8, missing=nan,\n",
       "                                               monotone_constraints=None,\n",
       "                                               multi_strategy=None,\n",
       "                                               n_estimators=683, n_jobs=None,\n",
       "                                               num_parallel_tree=None,\n",
       "                                               random_state=None, ...),\n",
       "                       method=&#x27;isotonic&#x27;)</pre></div></div></div><div class=\"sk-parallel\"><div class=\"sk-parallel-item\"><div class=\"sk-item\"><div class=\"sk-label-container\"><div class=\"sk-label sk-toggleable\"><input class=\"sk-toggleable__control sk-hidden--visually\" id=\"sk-estimator-id-20\" type=\"checkbox\" ><label for=\"sk-estimator-id-20\" class=\"sk-toggleable__label sk-toggleable__label-arrow\">estimator: XGBClassifier</label><div class=\"sk-toggleable__content\"><pre>XGBClassifier(base_score=None, booster=None, callbacks=None,\n",
       "              colsample_bylevel=None, colsample_bynode=None,\n",
       "              colsample_bytree=0.5632173888791652, device=None,\n",
       "              early_stopping_rounds=None, enable_categorical=False,\n",
       "              eval_metric=None, feature_types=None,\n",
       "              gamma=2.0969728436960023e-08, grow_policy=None,\n",
       "              importance_type=None, interaction_constraints=None,\n",
       "              learning_rate=0.050671913539153006, max_bin=None,\n",
       "              max_cat_threshold=None, max_cat_to_onehot=None,\n",
       "              max_delta_step=None, max_depth=7, max_leaves=None,\n",
       "              min_child_weight=8, missing=nan, monotone_constraints=None,\n",
       "              multi_strategy=None, n_estimators=683, n_jobs=None,\n",
       "              num_parallel_tree=None, random_state=None, ...)</pre></div></div></div><div class=\"sk-serial\"><div class=\"sk-item\"><div class=\"sk-estimator sk-toggleable\"><input class=\"sk-toggleable__control sk-hidden--visually\" id=\"sk-estimator-id-21\" type=\"checkbox\" ><label for=\"sk-estimator-id-21\" class=\"sk-toggleable__label sk-toggleable__label-arrow\">XGBClassifier</label><div class=\"sk-toggleable__content\"><pre>XGBClassifier(base_score=None, booster=None, callbacks=None,\n",
       "              colsample_bylevel=None, colsample_bynode=None,\n",
       "              colsample_bytree=0.5632173888791652, device=None,\n",
       "              early_stopping_rounds=None, enable_categorical=False,\n",
       "              eval_metric=None, feature_types=None,\n",
       "              gamma=2.0969728436960023e-08, grow_policy=None,\n",
       "              importance_type=None, interaction_constraints=None,\n",
       "              learning_rate=0.050671913539153006, max_bin=None,\n",
       "              max_cat_threshold=None, max_cat_to_onehot=None,\n",
       "              max_delta_step=None, max_depth=7, max_leaves=None,\n",
       "              min_child_weight=8, missing=nan, monotone_constraints=None,\n",
       "              multi_strategy=None, n_estimators=683, n_jobs=None,\n",
       "              num_parallel_tree=None, random_state=None, ...)</pre></div></div></div></div></div></div></div></div></div></div>"
      ],
      "text/plain": [
       "CalibratedClassifierCV(cv=4,\n",
       "                       estimator=XGBClassifier(base_score=None, booster=None,\n",
       "                                               callbacks=None,\n",
       "                                               colsample_bylevel=None,\n",
       "                                               colsample_bynode=None,\n",
       "                                               colsample_bytree=0.5632173888791652,\n",
       "                                               device=None,\n",
       "                                               early_stopping_rounds=None,\n",
       "                                               enable_categorical=False,\n",
       "                                               eval_metric=None,\n",
       "                                               feature_types=None,\n",
       "                                               gamma=2.0969728436960023e-08,\n",
       "                                               grow_policy=None,\n",
       "                                               importance_type=None,\n",
       "                                               interaction_constraints=None,\n",
       "                                               learning_rate=0.050671913539153006,\n",
       "                                               max_bin=None,\n",
       "                                               max_cat_threshold=None,\n",
       "                                               max_cat_to_onehot=None,\n",
       "                                               max_delta_step=None, max_depth=7,\n",
       "                                               max_leaves=None,\n",
       "                                               min_child_weight=8, missing=nan,\n",
       "                                               monotone_constraints=None,\n",
       "                                               multi_strategy=None,\n",
       "                                               n_estimators=683, n_jobs=None,\n",
       "                                               num_parallel_tree=None,\n",
       "                                               random_state=None, ...),\n",
       "                       method='isotonic')"
      ]
     },
     "execution_count": 84,
     "metadata": {},
     "output_type": "execute_result"
    }
   ],
   "source": [
    "calibr_xgb_classifier_isotonic = CalibratedClassifierCV(xgb_model,\n",
    "                                                    cv=4,\n",
    "                                               #cv=\"prefit\",\n",
    "                                               method=\"isotonic\")\n",
    "\n",
    "calibr_xgb_classifier_isotonic.fit(X_train, y_train)"
   ]
  },
  {
   "cell_type": "code",
   "execution_count": 87,
   "id": "391ad8bd-5723-4857-8717-2a14f83a0a67",
   "metadata": {},
   "outputs": [
    {
     "data": {
      "text/plain": [
       "<matplotlib.legend.Legend at 0x7141ad274430>"
      ]
     },
     "execution_count": 87,
     "metadata": {},
     "output_type": "execute_result"
    },
    {
     "data": {
      "image/png": "[encoded data removed]",
      "text/plain": [
       "<Figure size 864x504 with 1 Axes>"
      ]
     },
     "metadata": {
      "needs_background": "light"
     },
     "output_type": "display_data"
    }
   ],
   "source": [
    "calibr_xgb_val_predicts_platt = calibr_xgb_classifier_platt.predict_proba(X_val)[:, 1]\n",
    "calibr_xgb_val_predicts_isotonic = calibr_xgb_classifier_isotonic.predict_proba(X_val)[:, 1]\n",
    "\n",
    "\n",
    "\n",
    "platt_fraction_of_positives, platt_mean_predicted_value = calibration_curve(y_val,\n",
    "                                                                            calibr_xgb_val_predicts_platt,\n",
    "                                                                            n_bins=20)\n",
    "\n",
    "isot_fraction_of_positives, isot_mean_predicted_value = calibration_curve(y_val,\n",
    "                                                                            calibr_xgb_val_predicts_isotonic,\n",
    "                                                                            n_bins=20)\n",
    "\n",
    "\n",
    "fig, ax = plt.subplots(1, figsize=(12, 7))\n",
    "plt.plot(mean_predicted_value, fraction_of_positives, 's-', label=\"XGB(uncolibr)\", color=\"purple\", alpha=0.6)\n",
    "plt.plot(platt_mean_predicted_value, platt_fraction_of_positives, 's-', label=\"XGB(Platt calibr)\", color=\"orange\", alpha=0.6)\n",
    "plt.plot(isot_mean_predicted_value, isot_fraction_of_positives, 's-', label=\"XGB(Isotonic calibr)\", color=\"green\",alpha=0.6)\n",
    "\n",
    "\n",
    "plt.plot([0, 1], [0, 1], '--', color='gray', label=\"Perfectly calibrated\")\n",
    "plt.title(\"Calibration Curves for Xgb\", fontsize=13, )\n",
    "plt.xlabel(\"Mean prediction\", fontsize=12)\n",
    "plt.ylabel(\"Fraction of Positives\", fontsize=12)\n",
    "plt.legend()"
   ]
  },
  {
   "cell_type": "code",
   "execution_count": null,
   "id": "8b51679c-ccaf-46c5-94da-437936bc1fae",
   "metadata": {},
   "outputs": [],
   "source": []
  }
 ],
 "metadata": {
  "kernelspec": {
   "display_name": "Python 3 (ipykernel)",
   "language": "python",
   "name": "python3"
  },
  "language_info": {
   "codemirror_mode": {
    "name": "ipython",
    "version": 3
   },
   "file_extension": ".py",
   "mimetype": "text/x-python",
   "name": "python",
   "nbconvert_exporter": "python",
   "pygments_lexer": "ipython3",
   "version": "3.10.12"
  }
 },
 "nbformat": 4,
 "nbformat_minor": 5
}
